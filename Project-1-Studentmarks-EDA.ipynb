{
 "cells": [
  {
   "cell_type": "markdown",
   "metadata": {},
   "source": [
    "# Studentmarks and Titanic EDA"
   ]
  },
  {
   "cell_type": "markdown",
   "metadata": {},
   "source": [
    "DataSet-Link https://github.com/dsrscientist/dataset1/blob/master/student_marks.csv"
   ]
  },
  {
   "cell_type": "markdown",
   "metadata": {},
   "source": [
    " EDA with MySQL Make a connection with mysql ,fetch the data of students marks in notebook.\n",
    "(This process is known as data mining)."
   ]
  },
  {
   "cell_type": "code",
   "execution_count": 1,
   "metadata": {},
   "outputs": [
    {
     "name": "stdout",
     "output_type": "stream",
     "text": [
      "Requirement already satisfied: mysql-connector-python in c:\\users\\sagar\\anaconda3\\lib\\site-packages (8.0.20)\n",
      "Requirement already satisfied: protobuf>=3.0.0 in c:\\users\\sagar\\anaconda3\\lib\\site-packages (from mysql-connector-python) (3.12.2)\n",
      "Requirement already satisfied: six>=1.9 in c:\\users\\sagar\\anaconda3\\lib\\site-packages (from protobuf>=3.0.0->mysql-connector-python) (1.15.0)\n",
      "Requirement already satisfied: setuptools in c:\\users\\sagar\\anaconda3\\lib\\site-packages (from protobuf>=3.0.0->mysql-connector-python) (47.3.1.post20200622)\n"
     ]
    }
   ],
   "source": [
    "!pip install mysql-connector-python"
   ]
  },
  {
   "cell_type": "code",
   "execution_count": 2,
   "metadata": {},
   "outputs": [],
   "source": [
    "import mysql.connector"
   ]
  },
  {
   "cell_type": "markdown",
   "metadata": {},
   "source": [
    "# StudentMarks EDA"
   ]
  },
  {
   "cell_type": "code",
   "execution_count": 3,
   "metadata": {},
   "outputs": [
    {
     "data": {
      "text/html": [
       "<div>\n",
       "<style scoped>\n",
       "    .dataframe tbody tr th:only-of-type {\n",
       "        vertical-align: middle;\n",
       "    }\n",
       "\n",
       "    .dataframe tbody tr th {\n",
       "        vertical-align: top;\n",
       "    }\n",
       "\n",
       "    .dataframe thead th {\n",
       "        text-align: right;\n",
       "    }\n",
       "</style>\n",
       "<table border=\"1\" class=\"dataframe\">\n",
       "  <thead>\n",
       "    <tr style=\"text-align: right;\">\n",
       "      <th></th>\n",
       "      <th>Name</th>\n",
       "      <th>Gender</th>\n",
       "      <th>Maths</th>\n",
       "      <th>Physics</th>\n",
       "      <th>Chemistry</th>\n",
       "      <th>English</th>\n",
       "      <th>Biology</th>\n",
       "      <th>Economics</th>\n",
       "      <th>History</th>\n",
       "      <th>Civics</th>\n",
       "    </tr>\n",
       "  </thead>\n",
       "  <tbody>\n",
       "    <tr>\n",
       "      <th>0</th>\n",
       "      <td>John</td>\n",
       "      <td>M</td>\n",
       "      <td>55</td>\n",
       "      <td>45</td>\n",
       "      <td>56</td>\n",
       "      <td>87</td>\n",
       "      <td>21</td>\n",
       "      <td>52</td>\n",
       "      <td>89</td>\n",
       "      <td>65</td>\n",
       "    </tr>\n",
       "    <tr>\n",
       "      <th>1</th>\n",
       "      <td>Suresh</td>\n",
       "      <td>M</td>\n",
       "      <td>75</td>\n",
       "      <td>96</td>\n",
       "      <td>78</td>\n",
       "      <td>64</td>\n",
       "      <td>90</td>\n",
       "      <td>61</td>\n",
       "      <td>58</td>\n",
       "      <td>2</td>\n",
       "    </tr>\n",
       "    <tr>\n",
       "      <th>2</th>\n",
       "      <td>Ramesh</td>\n",
       "      <td>M</td>\n",
       "      <td>25</td>\n",
       "      <td>54</td>\n",
       "      <td>89</td>\n",
       "      <td>76</td>\n",
       "      <td>95</td>\n",
       "      <td>87</td>\n",
       "      <td>56</td>\n",
       "      <td>74</td>\n",
       "    </tr>\n",
       "    <tr>\n",
       "      <th>3</th>\n",
       "      <td>Jessica</td>\n",
       "      <td>F</td>\n",
       "      <td>78</td>\n",
       "      <td>96</td>\n",
       "      <td>86</td>\n",
       "      <td>63</td>\n",
       "      <td>54</td>\n",
       "      <td>89</td>\n",
       "      <td>75</td>\n",
       "      <td>45</td>\n",
       "    </tr>\n",
       "    <tr>\n",
       "      <th>4</th>\n",
       "      <td>Jennifer</td>\n",
       "      <td>F</td>\n",
       "      <td>58</td>\n",
       "      <td>96</td>\n",
       "      <td>78</td>\n",
       "      <td>46</td>\n",
       "      <td>96</td>\n",
       "      <td>77</td>\n",
       "      <td>83</td>\n",
       "      <td>53</td>\n",
       "    </tr>\n",
       "  </tbody>\n",
       "</table>\n",
       "</div>"
      ],
      "text/plain": [
       "       Name Gender  Maths  Physics  Chemistry  English  Biology  Economics  \\\n",
       "0      John      M     55       45         56       87       21         52   \n",
       "1    Suresh      M     75       96         78       64       90         61   \n",
       "2    Ramesh      M     25       54         89       76       95         87   \n",
       "3   Jessica      F     78       96         86       63       54         89   \n",
       "4  Jennifer      F     58       96         78       46       96         77   \n",
       "\n",
       "   History  Civics  \n",
       "0       89      65  \n",
       "1       58       2  \n",
       "2       56      74  \n",
       "3       75      45  \n",
       "4       83      53  "
      ]
     },
     "execution_count": 3,
     "metadata": {},
     "output_type": "execute_result"
    }
   ],
   "source": [
    "import pandas as pd\n",
    "con=mysql.connector.connect(\n",
    "    host=\"localhost\",\n",
    "    port=3306,\n",
    "    user=\"root\",\n",
    "    password=\"shah921\",\n",
    "    database=\"class\")\n",
    "df=pd.read_sql_query(\"select * from man\",con)\n",
    "df\n",
    "df.head()"
   ]
  },
  {
   "cell_type": "code",
   "execution_count": 4,
   "metadata": {},
   "outputs": [
    {
     "data": {
      "text/html": [
       "<div>\n",
       "<style scoped>\n",
       "    .dataframe tbody tr th:only-of-type {\n",
       "        vertical-align: middle;\n",
       "    }\n",
       "\n",
       "    .dataframe tbody tr th {\n",
       "        vertical-align: top;\n",
       "    }\n",
       "\n",
       "    .dataframe thead th {\n",
       "        text-align: right;\n",
       "    }\n",
       "</style>\n",
       "<table border=\"1\" class=\"dataframe\">\n",
       "  <thead>\n",
       "    <tr style=\"text-align: right;\">\n",
       "      <th></th>\n",
       "      <th>Name</th>\n",
       "      <th>Gender</th>\n",
       "      <th>Maths</th>\n",
       "      <th>Physics</th>\n",
       "      <th>Chemistry</th>\n",
       "      <th>English</th>\n",
       "      <th>Biology</th>\n",
       "      <th>Economics</th>\n",
       "      <th>History</th>\n",
       "      <th>Civics</th>\n",
       "    </tr>\n",
       "  </thead>\n",
       "  <tbody>\n",
       "    <tr>\n",
       "      <th>5</th>\n",
       "      <td>Annu</td>\n",
       "      <td>F</td>\n",
       "      <td>45</td>\n",
       "      <td>87</td>\n",
       "      <td>52</td>\n",
       "      <td>89</td>\n",
       "      <td>55</td>\n",
       "      <td>89</td>\n",
       "      <td>87</td>\n",
       "      <td>52</td>\n",
       "    </tr>\n",
       "    <tr>\n",
       "      <th>6</th>\n",
       "      <td>pooja</td>\n",
       "      <td>F</td>\n",
       "      <td>55</td>\n",
       "      <td>64</td>\n",
       "      <td>61</td>\n",
       "      <td>58</td>\n",
       "      <td>75</td>\n",
       "      <td>58</td>\n",
       "      <td>64</td>\n",
       "      <td>61</td>\n",
       "    </tr>\n",
       "    <tr>\n",
       "      <th>7</th>\n",
       "      <td>Ritesh</td>\n",
       "      <td>M</td>\n",
       "      <td>54</td>\n",
       "      <td>76</td>\n",
       "      <td>87</td>\n",
       "      <td>56</td>\n",
       "      <td>25</td>\n",
       "      <td>56</td>\n",
       "      <td>76</td>\n",
       "      <td>87</td>\n",
       "    </tr>\n",
       "    <tr>\n",
       "      <th>8</th>\n",
       "      <td>Farha</td>\n",
       "      <td>F</td>\n",
       "      <td>55</td>\n",
       "      <td>63</td>\n",
       "      <td>89</td>\n",
       "      <td>75</td>\n",
       "      <td>78</td>\n",
       "      <td>75</td>\n",
       "      <td>63</td>\n",
       "      <td>89</td>\n",
       "    </tr>\n",
       "    <tr>\n",
       "      <th>9</th>\n",
       "      <td>Mukesh</td>\n",
       "      <td>M</td>\n",
       "      <td>96</td>\n",
       "      <td>46</td>\n",
       "      <td>77</td>\n",
       "      <td>83</td>\n",
       "      <td>58</td>\n",
       "      <td>83</td>\n",
       "      <td>46</td>\n",
       "      <td>77</td>\n",
       "    </tr>\n",
       "  </tbody>\n",
       "</table>\n",
       "</div>"
      ],
      "text/plain": [
       "     Name Gender  Maths  Physics  Chemistry  English  Biology  Economics  \\\n",
       "5    Annu      F     45       87         52       89       55         89   \n",
       "6   pooja      F     55       64         61       58       75         58   \n",
       "7  Ritesh      M     54       76         87       56       25         56   \n",
       "8   Farha      F     55       63         89       75       78         75   \n",
       "9  Mukesh      M     96       46         77       83       58         83   \n",
       "\n",
       "   History  Civics  \n",
       "5       87      52  \n",
       "6       64      61  \n",
       "7       76      87  \n",
       "8       63      89  \n",
       "9       46      77  "
      ]
     },
     "execution_count": 4,
     "metadata": {},
     "output_type": "execute_result"
    }
   ],
   "source": [
    "## last five records :\n",
    "df.tail()"
   ]
  },
  {
   "cell_type": "code",
   "execution_count": 5,
   "metadata": {},
   "outputs": [
    {
     "data": {
      "text/plain": [
       "Name         object\n",
       "Gender       object\n",
       "Maths         int64\n",
       "Physics       int64\n",
       "Chemistry     int64\n",
       "English       int64\n",
       "Biology       int64\n",
       "Economics     int64\n",
       "History       int64\n",
       "Civics        int64\n",
       "dtype: object"
      ]
     },
     "execution_count": 5,
     "metadata": {},
     "output_type": "execute_result"
    }
   ],
   "source": [
    "## datatypes of studentmarks :\n",
    "df.dtypes"
   ]
  },
  {
   "cell_type": "code",
   "execution_count": 6,
   "metadata": {},
   "outputs": [
    {
     "data": {
      "text/plain": [
       "(10, 10)"
      ]
     },
     "execution_count": 6,
     "metadata": {},
     "output_type": "execute_result"
    }
   ],
   "source": [
    "## shape of the dataset (rows and column) :\n",
    "df.shape"
   ]
  },
  {
   "cell_type": "code",
   "execution_count": 7,
   "metadata": {},
   "outputs": [
    {
     "data": {
      "text/plain": [
       "Index(['Name', 'Gender', 'Maths', 'Physics', 'Chemistry', 'English', 'Biology',\n",
       "       'Economics', 'History', 'Civics'],\n",
       "      dtype='object')"
      ]
     },
     "execution_count": 7,
     "metadata": {},
     "output_type": "execute_result"
    }
   ],
   "source": [
    "df.columns"
   ]
  },
  {
   "cell_type": "code",
   "execution_count": 8,
   "metadata": {},
   "outputs": [
    {
     "name": "stdout",
     "output_type": "stream",
     "text": [
      "<class 'pandas.core.frame.DataFrame'>\n",
      "RangeIndex: 10 entries, 0 to 9\n",
      "Data columns (total 10 columns):\n",
      " #   Column     Non-Null Count  Dtype \n",
      "---  ------     --------------  ----- \n",
      " 0   Name       10 non-null     object\n",
      " 1   Gender     10 non-null     object\n",
      " 2   Maths      10 non-null     int64 \n",
      " 3   Physics    10 non-null     int64 \n",
      " 4   Chemistry  10 non-null     int64 \n",
      " 5   English    10 non-null     int64 \n",
      " 6   Biology    10 non-null     int64 \n",
      " 7   Economics  10 non-null     int64 \n",
      " 8   History    10 non-null     int64 \n",
      " 9   Civics     10 non-null     int64 \n",
      "dtypes: int64(8), object(2)\n",
      "memory usage: 928.0+ bytes\n"
     ]
    }
   ],
   "source": [
    "## total information of the dataset :\n",
    "df.info()"
   ]
  },
  {
   "cell_type": "code",
   "execution_count": 9,
   "metadata": {},
   "outputs": [
    {
     "data": {
      "text/plain": [
       "Name         0\n",
       "Gender       0\n",
       "Maths        0\n",
       "Physics      0\n",
       "Chemistry    0\n",
       "English      0\n",
       "Biology      0\n",
       "Economics    0\n",
       "History      0\n",
       "Civics       0\n",
       "dtype: int64"
      ]
     },
     "execution_count": 9,
     "metadata": {},
     "output_type": "execute_result"
    }
   ],
   "source": [
    "## lets check the null values :\n",
    "df.isnull().sum()"
   ]
  },
  {
   "cell_type": "code",
   "execution_count": 10,
   "metadata": {},
   "outputs": [
    {
     "data": {
      "text/plain": [
       "<matplotlib.axes._subplots.AxesSubplot at 0x22e1faeab48>"
      ]
     },
     "execution_count": 10,
     "metadata": {},
     "output_type": "execute_result"
    },
    {
     "data": {
      "image/png": "[encoded data removed]",
      "text/plain": [
       "<Figure size 432x288 with 2 Axes>"
      ]
     },
     "metadata": {
      "needs_background": "light"
     },
     "output_type": "display_data"
    }
   ],
   "source": [
    "import seaborn as sns\n",
    "sns.heatmap(df.isnull())"
   ]
  },
  {
   "cell_type": "code",
   "execution_count": 11,
   "metadata": {},
   "outputs": [
    {
     "data": {
      "text/html": [
       "<div>\n",
       "<style scoped>\n",
       "    .dataframe tbody tr th:only-of-type {\n",
       "        vertical-align: middle;\n",
       "    }\n",
       "\n",
       "    .dataframe tbody tr th {\n",
       "        vertical-align: top;\n",
       "    }\n",
       "\n",
       "    .dataframe thead th {\n",
       "        text-align: right;\n",
       "    }\n",
       "</style>\n",
       "<table border=\"1\" class=\"dataframe\">\n",
       "  <thead>\n",
       "    <tr style=\"text-align: right;\">\n",
       "      <th></th>\n",
       "      <th>Maths</th>\n",
       "      <th>Physics</th>\n",
       "      <th>Chemistry</th>\n",
       "      <th>English</th>\n",
       "      <th>Biology</th>\n",
       "      <th>Economics</th>\n",
       "      <th>History</th>\n",
       "      <th>Civics</th>\n",
       "    </tr>\n",
       "  </thead>\n",
       "  <tbody>\n",
       "    <tr>\n",
       "      <th>count</th>\n",
       "      <td>10.000000</td>\n",
       "      <td>10.000000</td>\n",
       "      <td>10.000000</td>\n",
       "      <td>10.000000</td>\n",
       "      <td>10.000000</td>\n",
       "      <td>10.000000</td>\n",
       "      <td>10.000000</td>\n",
       "      <td>10.0000</td>\n",
       "    </tr>\n",
       "    <tr>\n",
       "      <th>mean</th>\n",
       "      <td>59.600000</td>\n",
       "      <td>72.300000</td>\n",
       "      <td>75.300000</td>\n",
       "      <td>69.700000</td>\n",
       "      <td>64.700000</td>\n",
       "      <td>72.700000</td>\n",
       "      <td>69.700000</td>\n",
       "      <td>60.5000</td>\n",
       "    </tr>\n",
       "    <tr>\n",
       "      <th>std</th>\n",
       "      <td>19.460501</td>\n",
       "      <td>20.661559</td>\n",
       "      <td>14.000397</td>\n",
       "      <td>14.453373</td>\n",
       "      <td>26.998148</td>\n",
       "      <td>14.629119</td>\n",
       "      <td>14.453373</td>\n",
       "      <td>25.3432</td>\n",
       "    </tr>\n",
       "    <tr>\n",
       "      <th>min</th>\n",
       "      <td>25.000000</td>\n",
       "      <td>45.000000</td>\n",
       "      <td>52.000000</td>\n",
       "      <td>46.000000</td>\n",
       "      <td>21.000000</td>\n",
       "      <td>52.000000</td>\n",
       "      <td>46.000000</td>\n",
       "      <td>2.0000</td>\n",
       "    </tr>\n",
       "    <tr>\n",
       "      <th>25%</th>\n",
       "      <td>54.250000</td>\n",
       "      <td>56.250000</td>\n",
       "      <td>65.000000</td>\n",
       "      <td>59.250000</td>\n",
       "      <td>54.250000</td>\n",
       "      <td>58.750000</td>\n",
       "      <td>59.250000</td>\n",
       "      <td>52.2500</td>\n",
       "    </tr>\n",
       "    <tr>\n",
       "      <th>50%</th>\n",
       "      <td>55.000000</td>\n",
       "      <td>70.000000</td>\n",
       "      <td>78.000000</td>\n",
       "      <td>69.500000</td>\n",
       "      <td>66.500000</td>\n",
       "      <td>76.000000</td>\n",
       "      <td>69.500000</td>\n",
       "      <td>63.0000</td>\n",
       "    </tr>\n",
       "    <tr>\n",
       "      <th>75%</th>\n",
       "      <td>70.750000</td>\n",
       "      <td>93.750000</td>\n",
       "      <td>86.750000</td>\n",
       "      <td>81.250000</td>\n",
       "      <td>87.000000</td>\n",
       "      <td>86.000000</td>\n",
       "      <td>81.250000</td>\n",
       "      <td>76.2500</td>\n",
       "    </tr>\n",
       "    <tr>\n",
       "      <th>max</th>\n",
       "      <td>96.000000</td>\n",
       "      <td>96.000000</td>\n",
       "      <td>89.000000</td>\n",
       "      <td>89.000000</td>\n",
       "      <td>96.000000</td>\n",
       "      <td>89.000000</td>\n",
       "      <td>89.000000</td>\n",
       "      <td>89.0000</td>\n",
       "    </tr>\n",
       "  </tbody>\n",
       "</table>\n",
       "</div>"
      ],
      "text/plain": [
       "           Maths    Physics  Chemistry    English    Biology  Economics  \\\n",
       "count  10.000000  10.000000  10.000000  10.000000  10.000000  10.000000   \n",
       "mean   59.600000  72.300000  75.300000  69.700000  64.700000  72.700000   \n",
       "std    19.460501  20.661559  14.000397  14.453373  26.998148  14.629119   \n",
       "min    25.000000  45.000000  52.000000  46.000000  21.000000  52.000000   \n",
       "25%    54.250000  56.250000  65.000000  59.250000  54.250000  58.750000   \n",
       "50%    55.000000  70.000000  78.000000  69.500000  66.500000  76.000000   \n",
       "75%    70.750000  93.750000  86.750000  81.250000  87.000000  86.000000   \n",
       "max    96.000000  96.000000  89.000000  89.000000  96.000000  89.000000   \n",
       "\n",
       "         History   Civics  \n",
       "count  10.000000  10.0000  \n",
       "mean   69.700000  60.5000  \n",
       "std    14.453373  25.3432  \n",
       "min    46.000000   2.0000  \n",
       "25%    59.250000  52.2500  \n",
       "50%    69.500000  63.0000  \n",
       "75%    81.250000  76.2500  \n",
       "max    89.000000  89.0000  "
      ]
     },
     "execution_count": 11,
     "metadata": {},
     "output_type": "execute_result"
    }
   ],
   "source": [
    "## stastistical analysis :\n",
    "df.describe()"
   ]
  },
  {
   "cell_type": "code",
   "execution_count": 12,
   "metadata": {},
   "outputs": [
    {
     "data": {
      "text/html": [
       "<div>\n",
       "<style scoped>\n",
       "    .dataframe tbody tr th:only-of-type {\n",
       "        vertical-align: middle;\n",
       "    }\n",
       "\n",
       "    .dataframe tbody tr th {\n",
       "        vertical-align: top;\n",
       "    }\n",
       "\n",
       "    .dataframe thead th {\n",
       "        text-align: right;\n",
       "    }\n",
       "</style>\n",
       "<table border=\"1\" class=\"dataframe\">\n",
       "  <thead>\n",
       "    <tr style=\"text-align: right;\">\n",
       "      <th></th>\n",
       "      <th>Maths</th>\n",
       "      <th>Physics</th>\n",
       "      <th>Chemistry</th>\n",
       "      <th>English</th>\n",
       "      <th>Biology</th>\n",
       "      <th>Economics</th>\n",
       "      <th>History</th>\n",
       "      <th>Civics</th>\n",
       "    </tr>\n",
       "  </thead>\n",
       "  <tbody>\n",
       "    <tr>\n",
       "      <th>Maths</th>\n",
       "      <td>1.000000</td>\n",
       "      <td>0.113354</td>\n",
       "      <td>0.076751</td>\n",
       "      <td>-0.064074</td>\n",
       "      <td>-0.146598</td>\n",
       "      <td>0.000312</td>\n",
       "      <td>-0.320846</td>\n",
       "      <td>-0.274629</td>\n",
       "    </tr>\n",
       "    <tr>\n",
       "      <th>Physics</th>\n",
       "      <td>0.113354</td>\n",
       "      <td>1.000000</td>\n",
       "      <td>0.117192</td>\n",
       "      <td>-0.562608</td>\n",
       "      <td>0.279638</td>\n",
       "      <td>0.191851</td>\n",
       "      <td>0.334082</td>\n",
       "      <td>-0.643266</td>\n",
       "    </tr>\n",
       "    <tr>\n",
       "      <th>Chemistry</th>\n",
       "      <td>0.076751</td>\n",
       "      <td>0.117192</td>\n",
       "      <td>1.000000</td>\n",
       "      <td>-0.409680</td>\n",
       "      <td>0.318032</td>\n",
       "      <td>0.235390</td>\n",
       "      <td>-0.482710</td>\n",
       "      <td>0.210908</td>\n",
       "    </tr>\n",
       "    <tr>\n",
       "      <th>English</th>\n",
       "      <td>-0.064074</td>\n",
       "      <td>-0.562608</td>\n",
       "      <td>-0.409680</td>\n",
       "      <td>1.000000</td>\n",
       "      <td>-0.330844</td>\n",
       "      <td>0.237577</td>\n",
       "      <td>-0.038775</td>\n",
       "      <td>0.186705</td>\n",
       "    </tr>\n",
       "    <tr>\n",
       "      <th>Biology</th>\n",
       "      <td>-0.146598</td>\n",
       "      <td>0.279638</td>\n",
       "      <td>0.318032</td>\n",
       "      <td>-0.330844</td>\n",
       "      <td>1.000000</td>\n",
       "      <td>0.370531</td>\n",
       "      <td>-0.456131</td>\n",
       "      <td>-0.330060</td>\n",
       "    </tr>\n",
       "    <tr>\n",
       "      <th>Economics</th>\n",
       "      <td>0.000312</td>\n",
       "      <td>0.191851</td>\n",
       "      <td>0.235390</td>\n",
       "      <td>0.237577</td>\n",
       "      <td>0.370531</td>\n",
       "      <td>1.000000</td>\n",
       "      <td>-0.164953</td>\n",
       "      <td>0.043905</td>\n",
       "    </tr>\n",
       "    <tr>\n",
       "      <th>History</th>\n",
       "      <td>-0.320846</td>\n",
       "      <td>0.334082</td>\n",
       "      <td>-0.482710</td>\n",
       "      <td>-0.038775</td>\n",
       "      <td>-0.456131</td>\n",
       "      <td>-0.164953</td>\n",
       "      <td>1.000000</td>\n",
       "      <td>-0.048686</td>\n",
       "    </tr>\n",
       "    <tr>\n",
       "      <th>Civics</th>\n",
       "      <td>-0.274629</td>\n",
       "      <td>-0.643266</td>\n",
       "      <td>0.210908</td>\n",
       "      <td>0.186705</td>\n",
       "      <td>-0.330060</td>\n",
       "      <td>0.043905</td>\n",
       "      <td>-0.048686</td>\n",
       "      <td>1.000000</td>\n",
       "    </tr>\n",
       "  </tbody>\n",
       "</table>\n",
       "</div>"
      ],
      "text/plain": [
       "              Maths   Physics  Chemistry   English   Biology  Economics  \\\n",
       "Maths      1.000000  0.113354   0.076751 -0.064074 -0.146598   0.000312   \n",
       "Physics    0.113354  1.000000   0.117192 -0.562608  0.279638   0.191851   \n",
       "Chemistry  0.076751  0.117192   1.000000 -0.409680  0.318032   0.235390   \n",
       "English   -0.064074 -0.562608  -0.409680  1.000000 -0.330844   0.237577   \n",
       "Biology   -0.146598  0.279638   0.318032 -0.330844  1.000000   0.370531   \n",
       "Economics  0.000312  0.191851   0.235390  0.237577  0.370531   1.000000   \n",
       "History   -0.320846  0.334082  -0.482710 -0.038775 -0.456131  -0.164953   \n",
       "Civics    -0.274629 -0.643266   0.210908  0.186705 -0.330060   0.043905   \n",
       "\n",
       "            History    Civics  \n",
       "Maths     -0.320846 -0.274629  \n",
       "Physics    0.334082 -0.643266  \n",
       "Chemistry -0.482710  0.210908  \n",
       "English   -0.038775  0.186705  \n",
       "Biology   -0.456131 -0.330060  \n",
       "Economics -0.164953  0.043905  \n",
       "History    1.000000 -0.048686  \n",
       "Civics    -0.048686  1.000000  "
      ]
     },
     "execution_count": 12,
     "metadata": {},
     "output_type": "execute_result"
    }
   ],
   "source": [
    "## corelation Analysis :\n",
    "dfr=df.corr()\n",
    "dfr"
   ]
  },
  {
   "cell_type": "code",
   "execution_count": 13,
   "metadata": {},
   "outputs": [
    {
     "data": {
      "text/plain": [
       "<matplotlib.axes._subplots.AxesSubplot at 0x22e209ffcc8>"
      ]
     },
     "execution_count": 13,
     "metadata": {},
     "output_type": "execute_result"
    },
    {
     "data": {
      "image/png": "[encoded data removed]",
      "text/plain": [
       "<Figure size 432x288 with 2 Axes>"
      ]
     },
     "metadata": {
      "needs_background": "light"
     },
     "output_type": "display_data"
    }
   ],
   "source": [
    "sns.heatmap(dfr,annot=True)"
   ]
  },
  {
   "cell_type": "code",
   "execution_count": 14,
   "metadata": {},
   "outputs": [
    {
     "data": {
      "text/plain": [
       "<Figure size 1008x1728 with 0 Axes>"
      ]
     },
     "metadata": {},
     "output_type": "display_data"
    },
    {
     "data": {
      "image/png": "[encoded data removed]",
      "text/plain": [
       "<Figure size 432x288 with 1 Axes>"
      ]
     },
     "metadata": {
      "needs_background": "light"
     },
     "output_type": "display_data"
    }
   ],
   "source": [
    "import matplotlib.pyplot as plt\n",
    "plt.figure(figsize=(14,24))\n",
    "df.plot.box()\n",
    "plt.show()"
   ]
  },
  {
   "cell_type": "code",
   "execution_count": 15,
   "metadata": {},
   "outputs": [
    {
     "data": {
      "text/plain": [
       "<matplotlib.axes._subplots.AxesSubplot at 0x22e1e844948>"
      ]
     },
     "execution_count": 15,
     "metadata": {},
     "output_type": "execute_result"
    },
    {
     "data": {
      "image/png": "[encoded data removed]",
      "text/plain": [
       "<Figure size 432x288 with 1 Axes>"
      ]
     },
     "metadata": {
      "needs_background": "light"
     },
     "output_type": "display_data"
    }
   ],
   "source": [
    "df.plot.area()"
   ]
  },
  {
   "cell_type": "code",
   "execution_count": 16,
   "metadata": {},
   "outputs": [
    {
     "data": {
      "image/png": "[encoded data removed]",
      "text/plain": [
       "<Figure size 1152x720 with 9 Axes>"
      ]
     },
     "metadata": {
      "needs_background": "light"
     },
     "output_type": "display_data"
    }
   ],
   "source": [
    "import matplotlib.pyplot as plt\n",
    "df.hist(figsize=(16,10))\n",
    "plt.show()"
   ]
  },
  {
   "cell_type": "code",
   "execution_count": 17,
   "metadata": {},
   "outputs": [
    {
     "data": {
      "text/plain": [
       "<matplotlib.axes._subplots.AxesSubplot at 0x22e214f25c8>"
      ]
     },
     "execution_count": 17,
     "metadata": {},
     "output_type": "execute_result"
    },
    {
     "data": {
      "image/png": "[encoded data removed]",
      "text/plain": [
       "<Figure size 432x288 with 1 Axes>"
      ]
     },
     "metadata": {
      "needs_background": "light"
     },
     "output_type": "display_data"
    }
   ],
   "source": [
    "import seaborn as sns\n",
    "sns.distplot(df['English'])"
   ]
  },
  {
   "cell_type": "code",
   "execution_count": 18,
   "metadata": {},
   "outputs": [
    {
     "data": {
      "text/plain": [
       "<matplotlib.axes._subplots.AxesSubplot at 0x22e2092e848>"
      ]
     },
     "execution_count": 18,
     "metadata": {},
     "output_type": "execute_result"
    },
    {
     "data": {
      "image/png": "[encoded data removed]",
      "text/plain": [
       "<Figure size 432x288 with 1 Axes>"
      ]
     },
     "metadata": {
      "needs_background": "light"
     },
     "output_type": "display_data"
    }
   ],
   "source": [
    "sns.distplot(df['Maths'])"
   ]
  },
  {
   "cell_type": "code",
   "execution_count": 19,
   "metadata": {},
   "outputs": [
    {
     "data": {
      "text/plain": [
       "<matplotlib.axes._subplots.AxesSubplot at 0x22e217e9288>"
      ]
     },
     "execution_count": 19,
     "metadata": {},
     "output_type": "execute_result"
    },
    {
     "data": {
      "image/png": "[encoded data removed]",
      "text/plain": [
       "<Figure size 432x288 with 1 Axes>"
      ]
     },
     "metadata": {
      "needs_background": "light"
     },
     "output_type": "display_data"
    }
   ],
   "source": [
    "sns.countplot(df['Gender'])"
   ]
  },
  {
   "cell_type": "markdown",
   "metadata": {},
   "source": [
    "# Titanic EDA"
   ]
  },
  {
   "cell_type": "code",
   "execution_count": 20,
   "metadata": {},
   "outputs": [
    {
     "data": {
      "text/html": [
       "<div>\n",
       "<style scoped>\n",
       "    .dataframe tbody tr th:only-of-type {\n",
       "        vertical-align: middle;\n",
       "    }\n",
       "\n",
       "    .dataframe tbody tr th {\n",
       "        vertical-align: top;\n",
       "    }\n",
       "\n",
       "    .dataframe thead th {\n",
       "        text-align: right;\n",
       "    }\n",
       "</style>\n",
       "<table border=\"1\" class=\"dataframe\">\n",
       "  <thead>\n",
       "    <tr style=\"text-align: right;\">\n",
       "      <th></th>\n",
       "      <th>Passenger</th>\n",
       "      <th>Survived</th>\n",
       "      <th>Pclass</th>\n",
       "      <th>Name</th>\n",
       "      <th>Sex</th>\n",
       "      <th>Age</th>\n",
       "      <th>Sibsp</th>\n",
       "      <th>Parch</th>\n",
       "      <th>Ticket</th>\n",
       "      <th>fare</th>\n",
       "      <th>Cabin</th>\n",
       "      <th>Embarked</th>\n",
       "    </tr>\n",
       "  </thead>\n",
       "  <tbody>\n",
       "    <tr>\n",
       "      <th>0</th>\n",
       "      <td>1</td>\n",
       "      <td>0</td>\n",
       "      <td>3</td>\n",
       "      <td>Braund, Mr. Owen Harris</td>\n",
       "      <td>male</td>\n",
       "      <td>22</td>\n",
       "      <td>1</td>\n",
       "      <td>0</td>\n",
       "      <td>A/5 21171</td>\n",
       "      <td>7.2500</td>\n",
       "      <td></td>\n",
       "      <td>S</td>\n",
       "    </tr>\n",
       "    <tr>\n",
       "      <th>1</th>\n",
       "      <td>2</td>\n",
       "      <td>1</td>\n",
       "      <td>1</td>\n",
       "      <td>Cumings, Mrs. John Bradley (Florence Briggs Th...</td>\n",
       "      <td>female</td>\n",
       "      <td>38</td>\n",
       "      <td>1</td>\n",
       "      <td>0</td>\n",
       "      <td>PC 17599</td>\n",
       "      <td>71.2833</td>\n",
       "      <td>C85</td>\n",
       "      <td>C</td>\n",
       "    </tr>\n",
       "    <tr>\n",
       "      <th>2</th>\n",
       "      <td>3</td>\n",
       "      <td>1</td>\n",
       "      <td>3</td>\n",
       "      <td>Heikkinen, Miss. Laina</td>\n",
       "      <td>female</td>\n",
       "      <td>26</td>\n",
       "      <td>0</td>\n",
       "      <td>0</td>\n",
       "      <td>STON/O2. 3101282</td>\n",
       "      <td>7.9250</td>\n",
       "      <td></td>\n",
       "      <td>S</td>\n",
       "    </tr>\n",
       "    <tr>\n",
       "      <th>3</th>\n",
       "      <td>4</td>\n",
       "      <td>1</td>\n",
       "      <td>1</td>\n",
       "      <td>Futrelle, Mrs. Jacques Heath (Lily May Peel)</td>\n",
       "      <td>female</td>\n",
       "      <td>35</td>\n",
       "      <td>1</td>\n",
       "      <td>0</td>\n",
       "      <td>113803</td>\n",
       "      <td>53.1000</td>\n",
       "      <td>C123</td>\n",
       "      <td>S</td>\n",
       "    </tr>\n",
       "    <tr>\n",
       "      <th>4</th>\n",
       "      <td>5</td>\n",
       "      <td>0</td>\n",
       "      <td>3</td>\n",
       "      <td>Allen, Mr. William Henry</td>\n",
       "      <td>male</td>\n",
       "      <td>35</td>\n",
       "      <td>0</td>\n",
       "      <td>0</td>\n",
       "      <td>373450</td>\n",
       "      <td>8.0500</td>\n",
       "      <td></td>\n",
       "      <td>S</td>\n",
       "    </tr>\n",
       "  </tbody>\n",
       "</table>\n",
       "</div>"
      ],
      "text/plain": [
       "   Passenger  Survived  Pclass  \\\n",
       "0          1         0       3   \n",
       "1          2         1       1   \n",
       "2          3         1       3   \n",
       "3          4         1       1   \n",
       "4          5         0       3   \n",
       "\n",
       "                                                Name     Sex Age  Sibsp  \\\n",
       "0                            Braund, Mr. Owen Harris    male  22      1   \n",
       "1  Cumings, Mrs. John Bradley (Florence Briggs Th...  female  38      1   \n",
       "2                             Heikkinen, Miss. Laina  female  26      0   \n",
       "3       Futrelle, Mrs. Jacques Heath (Lily May Peel)  female  35      1   \n",
       "4                           Allen, Mr. William Henry    male  35      0   \n",
       "\n",
       "   Parch            Ticket     fare Cabin Embarked  \n",
       "0      0         A/5 21171   7.2500              S  \n",
       "1      0          PC 17599  71.2833   C85        C  \n",
       "2      0  STON/O2. 3101282   7.9250              S  \n",
       "3      0            113803  53.1000  C123        S  \n",
       "4      0            373450   8.0500              S  "
      ]
     },
     "execution_count": 20,
     "metadata": {},
     "output_type": "execute_result"
    }
   ],
   "source": [
    "import pandas as pd\n",
    "con=mysql.connector.connect(\n",
    "    host=\"localhost\",\n",
    "    port=3306,\n",
    "    user=\"root\",\n",
    "    password=\"shah921\",\n",
    "    database=\"class\")\n",
    "data=pd.read_sql_query(\"select * from rectangle\",con)\n",
    "data\n",
    "data.head()"
   ]
  },
  {
   "cell_type": "code",
   "execution_count": 21,
   "metadata": {},
   "outputs": [
    {
     "data": {
      "text/html": [
       "<div>\n",
       "<style scoped>\n",
       "    .dataframe tbody tr th:only-of-type {\n",
       "        vertical-align: middle;\n",
       "    }\n",
       "\n",
       "    .dataframe tbody tr th {\n",
       "        vertical-align: top;\n",
       "    }\n",
       "\n",
       "    .dataframe thead th {\n",
       "        text-align: right;\n",
       "    }\n",
       "</style>\n",
       "<table border=\"1\" class=\"dataframe\">\n",
       "  <thead>\n",
       "    <tr style=\"text-align: right;\">\n",
       "      <th></th>\n",
       "      <th>Passenger</th>\n",
       "      <th>Survived</th>\n",
       "      <th>Pclass</th>\n",
       "      <th>Name</th>\n",
       "      <th>Sex</th>\n",
       "      <th>Age</th>\n",
       "      <th>Sibsp</th>\n",
       "      <th>Parch</th>\n",
       "      <th>Ticket</th>\n",
       "      <th>fare</th>\n",
       "      <th>Cabin</th>\n",
       "      <th>Embarked</th>\n",
       "    </tr>\n",
       "  </thead>\n",
       "  <tbody>\n",
       "    <tr>\n",
       "      <th>886</th>\n",
       "      <td>887</td>\n",
       "      <td>0</td>\n",
       "      <td>2</td>\n",
       "      <td>Montvila, Rev. Juozas</td>\n",
       "      <td>male</td>\n",
       "      <td>27</td>\n",
       "      <td>0</td>\n",
       "      <td>0</td>\n",
       "      <td>211536</td>\n",
       "      <td>13.00</td>\n",
       "      <td></td>\n",
       "      <td>S</td>\n",
       "    </tr>\n",
       "    <tr>\n",
       "      <th>887</th>\n",
       "      <td>888</td>\n",
       "      <td>1</td>\n",
       "      <td>1</td>\n",
       "      <td>Graham, Miss. Margaret Edith</td>\n",
       "      <td>female</td>\n",
       "      <td>19</td>\n",
       "      <td>0</td>\n",
       "      <td>0</td>\n",
       "      <td>112053</td>\n",
       "      <td>30.00</td>\n",
       "      <td>B42</td>\n",
       "      <td>S</td>\n",
       "    </tr>\n",
       "    <tr>\n",
       "      <th>888</th>\n",
       "      <td>889</td>\n",
       "      <td>0</td>\n",
       "      <td>3</td>\n",
       "      <td>Johnston, Miss. Catherine Helen \"Carrie\"</td>\n",
       "      <td>female</td>\n",
       "      <td></td>\n",
       "      <td>1</td>\n",
       "      <td>2</td>\n",
       "      <td>W./C. 6607</td>\n",
       "      <td>23.45</td>\n",
       "      <td></td>\n",
       "      <td>S</td>\n",
       "    </tr>\n",
       "    <tr>\n",
       "      <th>889</th>\n",
       "      <td>890</td>\n",
       "      <td>1</td>\n",
       "      <td>1</td>\n",
       "      <td>Behr, Mr. Karl Howell</td>\n",
       "      <td>male</td>\n",
       "      <td>26</td>\n",
       "      <td>0</td>\n",
       "      <td>0</td>\n",
       "      <td>111369</td>\n",
       "      <td>30.00</td>\n",
       "      <td>C148</td>\n",
       "      <td>C</td>\n",
       "    </tr>\n",
       "    <tr>\n",
       "      <th>890</th>\n",
       "      <td>891</td>\n",
       "      <td>0</td>\n",
       "      <td>3</td>\n",
       "      <td>Dooley, Mr. Patrick</td>\n",
       "      <td>male</td>\n",
       "      <td>32</td>\n",
       "      <td>0</td>\n",
       "      <td>0</td>\n",
       "      <td>370376</td>\n",
       "      <td>7.75</td>\n",
       "      <td></td>\n",
       "      <td>Q</td>\n",
       "    </tr>\n",
       "  </tbody>\n",
       "</table>\n",
       "</div>"
      ],
      "text/plain": [
       "     Passenger  Survived  Pclass                                      Name  \\\n",
       "886        887         0       2                     Montvila, Rev. Juozas   \n",
       "887        888         1       1              Graham, Miss. Margaret Edith   \n",
       "888        889         0       3  Johnston, Miss. Catherine Helen \"Carrie\"   \n",
       "889        890         1       1                     Behr, Mr. Karl Howell   \n",
       "890        891         0       3                       Dooley, Mr. Patrick   \n",
       "\n",
       "        Sex Age  Sibsp  Parch      Ticket   fare Cabin Embarked  \n",
       "886    male  27      0      0      211536  13.00              S  \n",
       "887  female  19      0      0      112053  30.00   B42        S  \n",
       "888  female          1      2  W./C. 6607  23.45              S  \n",
       "889    male  26      0      0      111369  30.00  C148        C  \n",
       "890    male  32      0      0      370376   7.75              Q  "
      ]
     },
     "execution_count": 21,
     "metadata": {},
     "output_type": "execute_result"
    }
   ],
   "source": [
    "## last five records:\n",
    "data.tail()"
   ]
  },
  {
   "cell_type": "code",
   "execution_count": 22,
   "metadata": {},
   "outputs": [
    {
     "data": {
      "text/plain": [
       "Index(['Passenger', 'Survived', 'Pclass', 'Name', 'Sex', 'Age', 'Sibsp',\n",
       "       'Parch', 'Ticket', 'fare', 'Cabin', 'Embarked'],\n",
       "      dtype='object')"
      ]
     },
     "execution_count": 22,
     "metadata": {},
     "output_type": "execute_result"
    }
   ],
   "source": [
    "## columns of the dataset :\n",
    "data.columns"
   ]
  },
  {
   "cell_type": "code",
   "execution_count": 23,
   "metadata": {},
   "outputs": [
    {
     "data": {
      "text/plain": [
       "(891, 12)"
      ]
     },
     "execution_count": 23,
     "metadata": {},
     "output_type": "execute_result"
    }
   ],
   "source": [
    "## shape of the dataset :\n",
    "data.shape"
   ]
  },
  {
   "cell_type": "code",
   "execution_count": 24,
   "metadata": {},
   "outputs": [
    {
     "name": "stdout",
     "output_type": "stream",
     "text": [
      "<class 'pandas.core.frame.DataFrame'>\n",
      "RangeIndex: 891 entries, 0 to 890\n",
      "Data columns (total 12 columns):\n",
      " #   Column     Non-Null Count  Dtype  \n",
      "---  ------     --------------  -----  \n",
      " 0   Passenger  891 non-null    int64  \n",
      " 1   Survived   891 non-null    int64  \n",
      " 2   Pclass     891 non-null    int64  \n",
      " 3   Name       891 non-null    object \n",
      " 4   Sex        891 non-null    object \n",
      " 5   Age        891 non-null    object \n",
      " 6   Sibsp      891 non-null    int64  \n",
      " 7   Parch      891 non-null    int64  \n",
      " 8   Ticket     891 non-null    object \n",
      " 9   fare       891 non-null    float64\n",
      " 10  Cabin      891 non-null    object \n",
      " 11  Embarked   891 non-null    object \n",
      "dtypes: float64(1), int64(5), object(6)\n",
      "memory usage: 83.7+ KB\n"
     ]
    }
   ],
   "source": [
    "## total information of the dataset :\n",
    "data.info()"
   ]
  },
  {
   "cell_type": "code",
   "execution_count": 25,
   "metadata": {},
   "outputs": [
    {
     "data": {
      "text/plain": [
       "Passenger    0\n",
       "Survived     0\n",
       "Pclass       0\n",
       "Name         0\n",
       "Sex          0\n",
       "Age          0\n",
       "Sibsp        0\n",
       "Parch        0\n",
       "Ticket       0\n",
       "fare         0\n",
       "Cabin        0\n",
       "Embarked     0\n",
       "dtype: int64"
      ]
     },
     "execution_count": 25,
     "metadata": {},
     "output_type": "execute_result"
    }
   ],
   "source": [
    "## check the null values :\n",
    "data.isnull().sum()"
   ]
  },
  {
   "cell_type": "code",
   "execution_count": 26,
   "metadata": {},
   "outputs": [
    {
     "data": {
      "text/plain": [
       "<matplotlib.axes._subplots.AxesSubplot at 0x22e20e3efc8>"
      ]
     },
     "execution_count": 26,
     "metadata": {},
     "output_type": "execute_result"
    },
    {
     "data": {
      "image/png": "[encoded data removed]",
      "text/plain": [
       "<Figure size 432x288 with 2 Axes>"
      ]
     },
     "metadata": {
      "needs_background": "light"
     },
     "output_type": "display_data"
    }
   ],
   "source": [
    "sns.heatmap(data.isnull())"
   ]
  },
  {
   "cell_type": "code",
   "execution_count": 27,
   "metadata": {},
   "outputs": [
    {
     "data": {
      "text/html": [
       "<div>\n",
       "<style scoped>\n",
       "    .dataframe tbody tr th:only-of-type {\n",
       "        vertical-align: middle;\n",
       "    }\n",
       "\n",
       "    .dataframe tbody tr th {\n",
       "        vertical-align: top;\n",
       "    }\n",
       "\n",
       "    .dataframe thead th {\n",
       "        text-align: right;\n",
       "    }\n",
       "</style>\n",
       "<table border=\"1\" class=\"dataframe\">\n",
       "  <thead>\n",
       "    <tr style=\"text-align: right;\">\n",
       "      <th></th>\n",
       "      <th>Passenger</th>\n",
       "      <th>Survived</th>\n",
       "      <th>Pclass</th>\n",
       "      <th>Sibsp</th>\n",
       "      <th>Parch</th>\n",
       "      <th>fare</th>\n",
       "    </tr>\n",
       "  </thead>\n",
       "  <tbody>\n",
       "    <tr>\n",
       "      <th>count</th>\n",
       "      <td>891.000000</td>\n",
       "      <td>891.000000</td>\n",
       "      <td>891.000000</td>\n",
       "      <td>891.000000</td>\n",
       "      <td>891.000000</td>\n",
       "      <td>891.000000</td>\n",
       "    </tr>\n",
       "    <tr>\n",
       "      <th>mean</th>\n",
       "      <td>446.000000</td>\n",
       "      <td>0.383838</td>\n",
       "      <td>2.308642</td>\n",
       "      <td>0.523008</td>\n",
       "      <td>0.381594</td>\n",
       "      <td>32.204203</td>\n",
       "    </tr>\n",
       "    <tr>\n",
       "      <th>std</th>\n",
       "      <td>257.353842</td>\n",
       "      <td>0.486592</td>\n",
       "      <td>0.836071</td>\n",
       "      <td>1.102743</td>\n",
       "      <td>0.806057</td>\n",
       "      <td>49.693412</td>\n",
       "    </tr>\n",
       "    <tr>\n",
       "      <th>min</th>\n",
       "      <td>1.000000</td>\n",
       "      <td>0.000000</td>\n",
       "      <td>1.000000</td>\n",
       "      <td>0.000000</td>\n",
       "      <td>0.000000</td>\n",
       "      <td>0.000000</td>\n",
       "    </tr>\n",
       "    <tr>\n",
       "      <th>25%</th>\n",
       "      <td>223.500000</td>\n",
       "      <td>0.000000</td>\n",
       "      <td>2.000000</td>\n",
       "      <td>0.000000</td>\n",
       "      <td>0.000000</td>\n",
       "      <td>7.910400</td>\n",
       "    </tr>\n",
       "    <tr>\n",
       "      <th>50%</th>\n",
       "      <td>446.000000</td>\n",
       "      <td>0.000000</td>\n",
       "      <td>3.000000</td>\n",
       "      <td>0.000000</td>\n",
       "      <td>0.000000</td>\n",
       "      <td>14.454200</td>\n",
       "    </tr>\n",
       "    <tr>\n",
       "      <th>75%</th>\n",
       "      <td>668.500000</td>\n",
       "      <td>1.000000</td>\n",
       "      <td>3.000000</td>\n",
       "      <td>1.000000</td>\n",
       "      <td>0.000000</td>\n",
       "      <td>31.000000</td>\n",
       "    </tr>\n",
       "    <tr>\n",
       "      <th>max</th>\n",
       "      <td>891.000000</td>\n",
       "      <td>1.000000</td>\n",
       "      <td>3.000000</td>\n",
       "      <td>8.000000</td>\n",
       "      <td>6.000000</td>\n",
       "      <td>512.329000</td>\n",
       "    </tr>\n",
       "  </tbody>\n",
       "</table>\n",
       "</div>"
      ],
      "text/plain": [
       "        Passenger    Survived      Pclass       Sibsp       Parch        fare\n",
       "count  891.000000  891.000000  891.000000  891.000000  891.000000  891.000000\n",
       "mean   446.000000    0.383838    2.308642    0.523008    0.381594   32.204203\n",
       "std    257.353842    0.486592    0.836071    1.102743    0.806057   49.693412\n",
       "min      1.000000    0.000000    1.000000    0.000000    0.000000    0.000000\n",
       "25%    223.500000    0.000000    2.000000    0.000000    0.000000    7.910400\n",
       "50%    446.000000    0.000000    3.000000    0.000000    0.000000   14.454200\n",
       "75%    668.500000    1.000000    3.000000    1.000000    0.000000   31.000000\n",
       "max    891.000000    1.000000    3.000000    8.000000    6.000000  512.329000"
      ]
     },
     "execution_count": 27,
     "metadata": {},
     "output_type": "execute_result"
    }
   ],
   "source": [
    "## stastical analysis :\n",
    "data.describe()"
   ]
  },
  {
   "cell_type": "code",
   "execution_count": 28,
   "metadata": {},
   "outputs": [
    {
     "data": {
      "text/html": [
       "<div>\n",
       "<style scoped>\n",
       "    .dataframe tbody tr th:only-of-type {\n",
       "        vertical-align: middle;\n",
       "    }\n",
       "\n",
       "    .dataframe tbody tr th {\n",
       "        vertical-align: top;\n",
       "    }\n",
       "\n",
       "    .dataframe thead th {\n",
       "        text-align: right;\n",
       "    }\n",
       "</style>\n",
       "<table border=\"1\" class=\"dataframe\">\n",
       "  <thead>\n",
       "    <tr style=\"text-align: right;\">\n",
       "      <th></th>\n",
       "      <th>Passenger</th>\n",
       "      <th>Survived</th>\n",
       "      <th>Pclass</th>\n",
       "      <th>Sibsp</th>\n",
       "      <th>Parch</th>\n",
       "      <th>fare</th>\n",
       "    </tr>\n",
       "  </thead>\n",
       "  <tbody>\n",
       "    <tr>\n",
       "      <th>Passenger</th>\n",
       "      <td>1.000000</td>\n",
       "      <td>-0.005007</td>\n",
       "      <td>-0.035144</td>\n",
       "      <td>-0.057527</td>\n",
       "      <td>-0.001652</td>\n",
       "      <td>0.012658</td>\n",
       "    </tr>\n",
       "    <tr>\n",
       "      <th>Survived</th>\n",
       "      <td>-0.005007</td>\n",
       "      <td>1.000000</td>\n",
       "      <td>-0.338481</td>\n",
       "      <td>-0.035322</td>\n",
       "      <td>0.081629</td>\n",
       "      <td>0.257307</td>\n",
       "    </tr>\n",
       "    <tr>\n",
       "      <th>Pclass</th>\n",
       "      <td>-0.035144</td>\n",
       "      <td>-0.338481</td>\n",
       "      <td>1.000000</td>\n",
       "      <td>0.083081</td>\n",
       "      <td>0.018443</td>\n",
       "      <td>-0.549500</td>\n",
       "    </tr>\n",
       "    <tr>\n",
       "      <th>Sibsp</th>\n",
       "      <td>-0.057527</td>\n",
       "      <td>-0.035322</td>\n",
       "      <td>0.083081</td>\n",
       "      <td>1.000000</td>\n",
       "      <td>0.414838</td>\n",
       "      <td>0.159651</td>\n",
       "    </tr>\n",
       "    <tr>\n",
       "      <th>Parch</th>\n",
       "      <td>-0.001652</td>\n",
       "      <td>0.081629</td>\n",
       "      <td>0.018443</td>\n",
       "      <td>0.414838</td>\n",
       "      <td>1.000000</td>\n",
       "      <td>0.216225</td>\n",
       "    </tr>\n",
       "    <tr>\n",
       "      <th>fare</th>\n",
       "      <td>0.012658</td>\n",
       "      <td>0.257307</td>\n",
       "      <td>-0.549500</td>\n",
       "      <td>0.159651</td>\n",
       "      <td>0.216225</td>\n",
       "      <td>1.000000</td>\n",
       "    </tr>\n",
       "  </tbody>\n",
       "</table>\n",
       "</div>"
      ],
      "text/plain": [
       "           Passenger  Survived    Pclass     Sibsp     Parch      fare\n",
       "Passenger   1.000000 -0.005007 -0.035144 -0.057527 -0.001652  0.012658\n",
       "Survived   -0.005007  1.000000 -0.338481 -0.035322  0.081629  0.257307\n",
       "Pclass     -0.035144 -0.338481  1.000000  0.083081  0.018443 -0.549500\n",
       "Sibsp      -0.057527 -0.035322  0.083081  1.000000  0.414838  0.159651\n",
       "Parch      -0.001652  0.081629  0.018443  0.414838  1.000000  0.216225\n",
       "fare        0.012658  0.257307 -0.549500  0.159651  0.216225  1.000000"
      ]
     },
     "execution_count": 28,
     "metadata": {},
     "output_type": "execute_result"
    }
   ],
   "source": [
    "dfc=data.corr()\n",
    "dfc"
   ]
  },
  {
   "cell_type": "code",
   "execution_count": 29,
   "metadata": {},
   "outputs": [
    {
     "data": {
      "text/plain": [
       "<matplotlib.axes._subplots.AxesSubplot at 0x22e1d130548>"
      ]
     },
     "execution_count": 29,
     "metadata": {},
     "output_type": "execute_result"
    },
    {
     "data": {
      "image/png": "[encoded data removed]",
      "text/plain": [
       "<Figure size 432x288 with 2 Axes>"
      ]
     },
     "metadata": {
      "needs_background": "light"
     },
     "output_type": "display_data"
    }
   ],
   "source": [
    "sns.heatmap(dfc,annot=True)"
   ]
  },
  {
   "cell_type": "code",
   "execution_count": 30,
   "metadata": {},
   "outputs": [
    {
     "data": {
      "text/plain": [
       "<function matplotlib.pyplot.show(*args, **kw)>"
      ]
     },
     "execution_count": 30,
     "metadata": {},
     "output_type": "execute_result"
    },
    {
     "data": {
      "image/png": "[encoded data removed]",
      "text/plain": [
       "<Figure size 1152x864 with 6 Axes>"
      ]
     },
     "metadata": {
      "needs_background": "light"
     },
     "output_type": "display_data"
    }
   ],
   "source": [
    "data.hist(figsize=(16,12))\n",
    "plt.show"
   ]
  },
  {
   "cell_type": "code",
   "execution_count": 31,
   "metadata": {},
   "outputs": [
    {
     "name": "stdout",
     "output_type": "stream",
     "text": [
      "0    61.616162\n",
      "1    38.383838\n",
      "Name: Survived, dtype: float64\n",
      "AxesSubplot(0.125,0.125;0.775x0.755)\n"
     ]
    },
    {
     "data": {
      "image/png": "[encoded data removed]",
      "text/plain": [
       "<Figure size 432x288 with 1 Axes>"
      ]
     },
     "metadata": {
      "needs_background": "light"
     },
     "output_type": "display_data"
    }
   ],
   "source": [
    "## here we are taking the percentage :\n",
    "print(data['Survived'].value_counts()/891*100)\n",
    "print(sns.countplot(data['Survived']))"
   ]
  },
  {
   "cell_type": "code",
   "execution_count": 32,
   "metadata": {},
   "outputs": [
    {
     "name": "stdout",
     "output_type": "stream",
     "text": [
      "3    55.106622\n",
      "1    24.242424\n",
      "2    20.650954\n",
      "Name: Pclass, dtype: float64\n",
      "AxesSubplot(0.125,0.125;0.775x0.755)\n"
     ]
    },
    {
     "data": {
      "image/png": "[encoded data removed]",
      "text/plain": [
       "<Figure size 432x288 with 1 Axes>"
      ]
     },
     "metadata": {
      "needs_background": "light"
     },
     "output_type": "display_data"
    }
   ],
   "source": [
    "## taking the percentage and visualisation technique :\n",
    "print(data['Pclass'].value_counts()/891*100)\n",
    "print(sns.countplot(data['Pclass']))"
   ]
  },
  {
   "cell_type": "code",
   "execution_count": 33,
   "metadata": {},
   "outputs": [
    {
     "name": "stdout",
     "output_type": "stream",
     "text": [
      "male      64.758698\n",
      "female    35.241302\n",
      "Name: Sex, dtype: float64\n",
      "male      577\n",
      "female    314\n",
      "Name: Sex, dtype: int64\n",
      "AxesSubplot(0.125,0.125;0.775x0.755)\n"
     ]
    },
    {
     "data": {
      "image/png": "[encoded data removed]",
      "text/plain": [
       "<Figure size 432x288 with 1 Axes>"
      ]
     },
     "metadata": {
      "needs_background": "light"
     },
     "output_type": "display_data"
    }
   ],
   "source": [
    "print(data['Sex'].value_counts()/891*100)\n",
    "print(data['Sex'].value_counts())\n",
    "print(sns.countplot(data['Sex']))"
   ]
  },
  {
   "cell_type": "code",
   "execution_count": 34,
   "metadata": {},
   "outputs": [
    {
     "name": "stdout",
     "output_type": "stream",
     "text": [
      "S    72.278339\n",
      "C    18.855219\n",
      "Q     8.641975\n",
      "      0.224467\n",
      "Name: Embarked, dtype: float64\n",
      "AxesSubplot(0.125,0.125;0.775x0.755)\n"
     ]
    },
    {
     "data": {
      "image/png": "[encoded data removed]",
      "text/plain": [
       "<Figure size 432x288 with 1 Axes>"
      ]
     },
     "metadata": {
      "needs_background": "light"
     },
     "output_type": "display_data"
    }
   ],
   "source": [
    "## we are taking the percentage and value counts :\n",
    "print(data['Embarked'].value_counts()/891*100)\n",
    "print(sns.countplot(data['Embarked']))"
   ]
  },
  {
   "cell_type": "code",
   "execution_count": 35,
   "metadata": {},
   "outputs": [
    {
     "name": "stdout",
     "output_type": "stream",
     "text": [
      "['male' 'female']\n",
      "['S' 'C' 'Q' '']\n"
     ]
    }
   ],
   "source": [
    "## uniquness from the catagorical data :\n",
    "print(data['Sex'].unique())\n",
    "print(data['Embarked'].unique())"
   ]
  },
  {
   "cell_type": "markdown",
   "metadata": {},
   "source": [
    "conculsion: We have check the all columns through EDA process."
   ]
  },
  {
   "cell_type": "code",
   "execution_count": null,
   "metadata": {},
   "outputs": [],
   "source": []
  }
 ],
 "metadata": {
  "kernelspec": {
   "display_name": "Python 3",
   "language": "python",
   "name": "python3"
  },
  "language_info": {
   "codemirror_mode": {
    "name": "ipython",
    "version": 3
   },
   "file_extension": ".py",
   "mimetype": "text/x-python",
   "name": "python",
   "nbconvert_exporter": "python",
   "pygments_lexer": "ipython3",
   "version": "3.7.7"
  }
 },
 "nbformat": 4,
 "nbformat_minor": 4
}
