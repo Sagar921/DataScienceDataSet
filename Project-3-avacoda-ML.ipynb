{
 "cells": [
  {
   "cell_type": "markdown",
   "metadata": {},
   "source": [
    "# Avocada-ML-Project"
   ]
  },
  {
   "cell_type": "raw",
   "metadata": {},
   "source": [
    "\n",
    "##Observation:\n",
    "Avacado is a fruit consumed by people heavily in United states. \n",
    "Content:\n",
    "This data was downloaded from the Hass Avocado Board website in May of 2018 & compiled into a single CSV. Here's how the Hass Avocado Board describes the data on their website:\n",
    "\n",
    "> The table below represents weekly 2018 retail scan data for National retail volume (units) and price. Retail scan data comes directly from retailers’ cash registers based on actual retail sales of Hass avocados. Starting in 2013, the table below reflects an expanded, multi-outlet retail data set. Multi-outlet reporting includes an aggregation of the following channels: grocery, mass, club, drug, dollar and military. The Average Price (of avocados) in the table reflects a per unit (per avocado) cost, even when multiple units (avocados) are sold in bags. The Product Lookup codes (PLU’s) in the table are only for Hass avocados. Other varieties of avocados (e.g. greenskins) are not included in this table.\n",
    "\n",
    "Some relevant columns in the dataset:\n",
    "\n",
    "Date - The date of the observation\n",
    "AveragePrice - the average price of a single avocado\n",
    "type - conventional or organic\n",
    "year - the year\n",
    "Region - the city or region of the observation\n",
    "Total Volume - Total number of avocados sold\n",
    "4046 - Total number of avocados with PLU 4046 sold\n",
    "4225 - Total number of avocados with PLU 4225 sold\n",
    "4770 - Total number of avocados with PLU 4770 sold\n"
   ]
  },
  {
   "cell_type": "markdown",
   "metadata": {},
   "source": [
    "Dataset links:\n",
    "\n",
    "https://github.com/dsrscientist/Data-Science-ML-Capstone-Projects/commit/4b4552acae92b71b390feed74695315b90151935\n",
    "\n",
    "https://github.com/dsrscientist/Data-Science-ML-Capstone-Projects"
   ]
  },
  {
   "cell_type": "code",
   "execution_count": 1,
   "metadata": {},
   "outputs": [],
   "source": [
    "## importing essential libraries :\n",
    "import numpy as np\n",
    "import pandas as pd\n",
    "import seaborn as sns\n",
    "import matplotlib.pyplot as plt"
   ]
  },
  {
   "cell_type": "code",
   "execution_count": 2,
   "metadata": {},
   "outputs": [],
   "source": [
    "## load the dataset :\n",
    "data=pd.read_csv('avacado.csv')"
   ]
  },
  {
   "cell_type": "code",
   "execution_count": 3,
   "metadata": {},
   "outputs": [
    {
     "data": {
      "text/html": [
       "<div>\n",
       "<style scoped>\n",
       "    .dataframe tbody tr th:only-of-type {\n",
       "        vertical-align: middle;\n",
       "    }\n",
       "\n",
       "    .dataframe tbody tr th {\n",
       "        vertical-align: top;\n",
       "    }\n",
       "\n",
       "    .dataframe thead th {\n",
       "        text-align: right;\n",
       "    }\n",
       "</style>\n",
       "<table border=\"1\" class=\"dataframe\">\n",
       "  <thead>\n",
       "    <tr style=\"text-align: right;\">\n",
       "      <th></th>\n",
       "      <th>Date</th>\n",
       "      <th>Average Price</th>\n",
       "      <th>Total Value</th>\n",
       "      <th>4046</th>\n",
       "      <th>4225</th>\n",
       "      <th>4770</th>\n",
       "      <th>Total Bags</th>\n",
       "      <th>Small Bags</th>\n",
       "      <th>Large Bags</th>\n",
       "      <th>Xlarge Bags</th>\n",
       "      <th>type</th>\n",
       "      <th>year</th>\n",
       "      <th>region</th>\n",
       "    </tr>\n",
       "  </thead>\n",
       "  <tbody>\n",
       "    <tr>\n",
       "      <th>0</th>\n",
       "      <td>27/12/2015</td>\n",
       "      <td>1.33</td>\n",
       "      <td>64236.62</td>\n",
       "      <td>1036.74</td>\n",
       "      <td>54454.85</td>\n",
       "      <td>48.16</td>\n",
       "      <td>8696.87</td>\n",
       "      <td>8603.62</td>\n",
       "      <td>93.25</td>\n",
       "      <td>0.0</td>\n",
       "      <td>conventional</td>\n",
       "      <td>2015</td>\n",
       "      <td>Albany</td>\n",
       "    </tr>\n",
       "    <tr>\n",
       "      <th>1</th>\n",
       "      <td>20/12/2015</td>\n",
       "      <td>1.35</td>\n",
       "      <td>54876.98</td>\n",
       "      <td>674.28</td>\n",
       "      <td>44638.81</td>\n",
       "      <td>58.33</td>\n",
       "      <td>9505.56</td>\n",
       "      <td>9408.07</td>\n",
       "      <td>97.49</td>\n",
       "      <td>0.0</td>\n",
       "      <td>conventional</td>\n",
       "      <td>2015</td>\n",
       "      <td>Albany</td>\n",
       "    </tr>\n",
       "    <tr>\n",
       "      <th>2</th>\n",
       "      <td>13/12/2015</td>\n",
       "      <td>0.93</td>\n",
       "      <td>118220.22</td>\n",
       "      <td>794.70</td>\n",
       "      <td>109149.67</td>\n",
       "      <td>130.50</td>\n",
       "      <td>8145.35</td>\n",
       "      <td>8042.21</td>\n",
       "      <td>103.14</td>\n",
       "      <td>0.0</td>\n",
       "      <td>conventional</td>\n",
       "      <td>2015</td>\n",
       "      <td>Albany</td>\n",
       "    </tr>\n",
       "    <tr>\n",
       "      <th>3</th>\n",
       "      <td>06/12/2015</td>\n",
       "      <td>1.08</td>\n",
       "      <td>78992.15</td>\n",
       "      <td>1132.00</td>\n",
       "      <td>71976.41</td>\n",
       "      <td>72.58</td>\n",
       "      <td>5811.16</td>\n",
       "      <td>5677.40</td>\n",
       "      <td>133.76</td>\n",
       "      <td>0.0</td>\n",
       "      <td>conventional</td>\n",
       "      <td>2015</td>\n",
       "      <td>Albany</td>\n",
       "    </tr>\n",
       "    <tr>\n",
       "      <th>4</th>\n",
       "      <td>29/11/2015</td>\n",
       "      <td>1.28</td>\n",
       "      <td>51039.60</td>\n",
       "      <td>941.48</td>\n",
       "      <td>43838.39</td>\n",
       "      <td>75.78</td>\n",
       "      <td>6183.95</td>\n",
       "      <td>5986.26</td>\n",
       "      <td>197.69</td>\n",
       "      <td>0.0</td>\n",
       "      <td>conventional</td>\n",
       "      <td>2015</td>\n",
       "      <td>Albany</td>\n",
       "    </tr>\n",
       "  </tbody>\n",
       "</table>\n",
       "</div>"
      ],
      "text/plain": [
       "         Date  Average Price  Total Value     4046       4225    4770  \\\n",
       "0  27/12/2015           1.33     64236.62  1036.74   54454.85   48.16   \n",
       "1  20/12/2015           1.35     54876.98   674.28   44638.81   58.33   \n",
       "2  13/12/2015           0.93    118220.22   794.70  109149.67  130.50   \n",
       "3  06/12/2015           1.08     78992.15  1132.00   71976.41   72.58   \n",
       "4  29/11/2015           1.28     51039.60   941.48   43838.39   75.78   \n",
       "\n",
       "   Total Bags  Small Bags  Large Bags  Xlarge Bags          type  year  region  \n",
       "0     8696.87     8603.62       93.25          0.0  conventional  2015  Albany  \n",
       "1     9505.56     9408.07       97.49          0.0  conventional  2015  Albany  \n",
       "2     8145.35     8042.21      103.14          0.0  conventional  2015  Albany  \n",
       "3     5811.16     5677.40      133.76          0.0  conventional  2015  Albany  \n",
       "4     6183.95     5986.26      197.69          0.0  conventional  2015  Albany  "
      ]
     },
     "execution_count": 3,
     "metadata": {},
     "output_type": "execute_result"
    }
   ],
   "source": [
    "## lets check the first five records :\n",
    "data.head()"
   ]
  },
  {
   "cell_type": "code",
   "execution_count": 4,
   "metadata": {},
   "outputs": [
    {
     "data": {
      "text/html": [
       "<div>\n",
       "<style scoped>\n",
       "    .dataframe tbody tr th:only-of-type {\n",
       "        vertical-align: middle;\n",
       "    }\n",
       "\n",
       "    .dataframe tbody tr th {\n",
       "        vertical-align: top;\n",
       "    }\n",
       "\n",
       "    .dataframe thead th {\n",
       "        text-align: right;\n",
       "    }\n",
       "</style>\n",
       "<table border=\"1\" class=\"dataframe\">\n",
       "  <thead>\n",
       "    <tr style=\"text-align: right;\">\n",
       "      <th></th>\n",
       "      <th>Date</th>\n",
       "      <th>Average Price</th>\n",
       "      <th>Total Value</th>\n",
       "      <th>4046</th>\n",
       "      <th>4225</th>\n",
       "      <th>4770</th>\n",
       "      <th>Total Bags</th>\n",
       "      <th>Small Bags</th>\n",
       "      <th>Large Bags</th>\n",
       "      <th>Xlarge Bags</th>\n",
       "      <th>type</th>\n",
       "      <th>year</th>\n",
       "      <th>region</th>\n",
       "    </tr>\n",
       "  </thead>\n",
       "  <tbody>\n",
       "    <tr>\n",
       "      <th>1512</th>\n",
       "      <td>16/10/2016</td>\n",
       "      <td>1.39</td>\n",
       "      <td>190846.01</td>\n",
       "      <td>57529.11</td>\n",
       "      <td>56366.66</td>\n",
       "      <td>17531.78</td>\n",
       "      <td>59418.46</td>\n",
       "      <td>48823.53</td>\n",
       "      <td>10354.65</td>\n",
       "      <td>240.28</td>\n",
       "      <td>conventional</td>\n",
       "      <td>2016</td>\n",
       "      <td>Charlotte</td>\n",
       "    </tr>\n",
       "    <tr>\n",
       "      <th>1513</th>\n",
       "      <td>09/10/2016</td>\n",
       "      <td>1.51</td>\n",
       "      <td>178235.75</td>\n",
       "      <td>43325.87</td>\n",
       "      <td>52189.61</td>\n",
       "      <td>19419.57</td>\n",
       "      <td>63300.70</td>\n",
       "      <td>54704.14</td>\n",
       "      <td>8596.56</td>\n",
       "      <td>0.00</td>\n",
       "      <td>conventional</td>\n",
       "      <td>2016</td>\n",
       "      <td>Charlotte</td>\n",
       "    </tr>\n",
       "    <tr>\n",
       "      <th>1514</th>\n",
       "      <td>02/10/2016</td>\n",
       "      <td>1.48</td>\n",
       "      <td>178410.82</td>\n",
       "      <td>46364.75</td>\n",
       "      <td>52893.38</td>\n",
       "      <td>16736.92</td>\n",
       "      <td>62415.77</td>\n",
       "      <td>53332.61</td>\n",
       "      <td>8258.16</td>\n",
       "      <td>825.00</td>\n",
       "      <td>conventional</td>\n",
       "      <td>2016</td>\n",
       "      <td>Charlotte</td>\n",
       "    </tr>\n",
       "    <tr>\n",
       "      <th>1515</th>\n",
       "      <td>25/09/2016</td>\n",
       "      <td>1.47</td>\n",
       "      <td>189131.52</td>\n",
       "      <td>54110.79</td>\n",
       "      <td>53593.58</td>\n",
       "      <td>17495.42</td>\n",
       "      <td>63931.73</td>\n",
       "      <td>55653.47</td>\n",
       "      <td>8278.26</td>\n",
       "      <td>0.00</td>\n",
       "      <td>conventional</td>\n",
       "      <td>2016</td>\n",
       "      <td>Charlotte</td>\n",
       "    </tr>\n",
       "    <tr>\n",
       "      <th>1516</th>\n",
       "      <td>18/09/2016</td>\n",
       "      <td>1.43</td>\n",
       "      <td>182978.30</td>\n",
       "      <td>43116.41</td>\n",
       "      <td>54193.42</td>\n",
       "      <td>16563.91</td>\n",
       "      <td>69104.56</td>\n",
       "      <td>57456.21</td>\n",
       "      <td>11648.35</td>\n",
       "      <td>0.00</td>\n",
       "      <td>conventional</td>\n",
       "      <td>2016</td>\n",
       "      <td>Charlotte</td>\n",
       "    </tr>\n",
       "  </tbody>\n",
       "</table>\n",
       "</div>"
      ],
      "text/plain": [
       "            Date  Average Price  Total Value      4046      4225      4770  \\\n",
       "1512  16/10/2016           1.39    190846.01  57529.11  56366.66  17531.78   \n",
       "1513  09/10/2016           1.51    178235.75  43325.87  52189.61  19419.57   \n",
       "1514  02/10/2016           1.48    178410.82  46364.75  52893.38  16736.92   \n",
       "1515  25/09/2016           1.47    189131.52  54110.79  53593.58  17495.42   \n",
       "1516  18/09/2016           1.43    182978.30  43116.41  54193.42  16563.91   \n",
       "\n",
       "      Total Bags  Small Bags  Large Bags  Xlarge Bags          type  year  \\\n",
       "1512    59418.46    48823.53    10354.65       240.28  conventional  2016   \n",
       "1513    63300.70    54704.14     8596.56         0.00  conventional  2016   \n",
       "1514    62415.77    53332.61     8258.16       825.00  conventional  2016   \n",
       "1515    63931.73    55653.47     8278.26         0.00  conventional  2016   \n",
       "1516    69104.56    57456.21    11648.35         0.00  conventional  2016   \n",
       "\n",
       "         region  \n",
       "1512  Charlotte  \n",
       "1513  Charlotte  \n",
       "1514  Charlotte  \n",
       "1515  Charlotte  \n",
       "1516  Charlotte  "
      ]
     },
     "execution_count": 4,
     "metadata": {},
     "output_type": "execute_result"
    }
   ],
   "source": [
    "## lets check the last five records :\n",
    "data.tail()"
   ]
  },
  {
   "cell_type": "code",
   "execution_count": 5,
   "metadata": {},
   "outputs": [
    {
     "data": {
      "text/plain": [
       "(1517, 13)"
      ]
     },
     "execution_count": 5,
     "metadata": {},
     "output_type": "execute_result"
    }
   ],
   "source": [
    "## shape of the dataset (Rows, Columns) :\n",
    "data.shape"
   ]
  },
  {
   "cell_type": "code",
   "execution_count": 6,
   "metadata": {},
   "outputs": [
    {
     "data": {
      "text/plain": [
       "Index(['Date', 'Average Price', 'Total Value', '4046', '4225', '4770',\n",
       "       'Total Bags', 'Small Bags', 'Large Bags', 'Xlarge Bags', 'type', 'year',\n",
       "       'region'],\n",
       "      dtype='object')"
      ]
     },
     "execution_count": 6,
     "metadata": {},
     "output_type": "execute_result"
    }
   ],
   "source": [
    "## names of the columns :\n",
    "data.columns"
   ]
  },
  {
   "cell_type": "code",
   "execution_count": 7,
   "metadata": {},
   "outputs": [
    {
     "name": "stdout",
     "output_type": "stream",
     "text": [
      "<class 'pandas.core.frame.DataFrame'>\n",
      "RangeIndex: 1517 entries, 0 to 1516\n",
      "Data columns (total 13 columns):\n",
      " #   Column         Non-Null Count  Dtype  \n",
      "---  ------         --------------  -----  \n",
      " 0   Date           1517 non-null   object \n",
      " 1   Average Price  1517 non-null   float64\n",
      " 2   Total Value    1517 non-null   float64\n",
      " 3   4046           1517 non-null   float64\n",
      " 4   4225           1517 non-null   float64\n",
      " 5   4770           1517 non-null   float64\n",
      " 6   Total Bags     1517 non-null   float64\n",
      " 7   Small Bags     1517 non-null   float64\n",
      " 8   Large Bags     1517 non-null   float64\n",
      " 9   Xlarge Bags    1517 non-null   float64\n",
      " 10  type           1517 non-null   object \n",
      " 11  year           1517 non-null   int64  \n",
      " 12  region         1517 non-null   object \n",
      "dtypes: float64(9), int64(1), object(3)\n",
      "memory usage: 154.2+ KB\n"
     ]
    }
   ],
   "source": [
    "## totalinformation of the given dataset :\n",
    "data.info()"
   ]
  },
  {
   "cell_type": "code",
   "execution_count": 8,
   "metadata": {},
   "outputs": [
    {
     "data": {
      "text/plain": [
       "Date             0\n",
       "Average Price    0\n",
       "Total Value      0\n",
       "4046             0\n",
       "4225             0\n",
       "4770             0\n",
       "Total Bags       0\n",
       "Small Bags       0\n",
       "Large Bags       0\n",
       "Xlarge Bags      0\n",
       "type             0\n",
       "year             0\n",
       "region           0\n",
       "dtype: int64"
      ]
     },
     "execution_count": 8,
     "metadata": {},
     "output_type": "execute_result"
    }
   ],
   "source": [
    "## check the null values :\n",
    "data.isnull().sum()"
   ]
  },
  {
   "cell_type": "code",
   "execution_count": 9,
   "metadata": {},
   "outputs": [
    {
     "data": {
      "text/html": [
       "<div>\n",
       "<style scoped>\n",
       "    .dataframe tbody tr th:only-of-type {\n",
       "        vertical-align: middle;\n",
       "    }\n",
       "\n",
       "    .dataframe tbody tr th {\n",
       "        vertical-align: top;\n",
       "    }\n",
       "\n",
       "    .dataframe thead th {\n",
       "        text-align: right;\n",
       "    }\n",
       "</style>\n",
       "<table border=\"1\" class=\"dataframe\">\n",
       "  <thead>\n",
       "    <tr style=\"text-align: right;\">\n",
       "      <th></th>\n",
       "      <th>Date</th>\n",
       "      <th>Average Price</th>\n",
       "      <th>Total Value</th>\n",
       "      <th>4046</th>\n",
       "      <th>4225</th>\n",
       "      <th>4770</th>\n",
       "      <th>Total Bags</th>\n",
       "      <th>Small Bags</th>\n",
       "      <th>Large Bags</th>\n",
       "      <th>Xlarge Bags</th>\n",
       "      <th>type</th>\n",
       "      <th>year</th>\n",
       "      <th>region</th>\n",
       "    </tr>\n",
       "  </thead>\n",
       "  <tbody>\n",
       "    <tr>\n",
       "      <th>0</th>\n",
       "      <td>27/12/2015</td>\n",
       "      <td>1.33</td>\n",
       "      <td>64236.62</td>\n",
       "      <td>1036.74</td>\n",
       "      <td>54454.85</td>\n",
       "      <td>48.16</td>\n",
       "      <td>8696.87</td>\n",
       "      <td>8603.62</td>\n",
       "      <td>93.25</td>\n",
       "      <td>0.0</td>\n",
       "      <td>conventional</td>\n",
       "      <td>2015</td>\n",
       "      <td>Albany</td>\n",
       "    </tr>\n",
       "    <tr>\n",
       "      <th>1</th>\n",
       "      <td>20/12/2015</td>\n",
       "      <td>1.35</td>\n",
       "      <td>54876.98</td>\n",
       "      <td>674.28</td>\n",
       "      <td>44638.81</td>\n",
       "      <td>58.33</td>\n",
       "      <td>9505.56</td>\n",
       "      <td>9408.07</td>\n",
       "      <td>97.49</td>\n",
       "      <td>0.0</td>\n",
       "      <td>conventional</td>\n",
       "      <td>2015</td>\n",
       "      <td>Albany</td>\n",
       "    </tr>\n",
       "  </tbody>\n",
       "</table>\n",
       "</div>"
      ],
      "text/plain": [
       "         Date  Average Price  Total Value     4046      4225   4770  \\\n",
       "0  27/12/2015           1.33     64236.62  1036.74  54454.85  48.16   \n",
       "1  20/12/2015           1.35     54876.98   674.28  44638.81  58.33   \n",
       "\n",
       "   Total Bags  Small Bags  Large Bags  Xlarge Bags          type  year  region  \n",
       "0     8696.87     8603.62       93.25          0.0  conventional  2015  Albany  \n",
       "1     9505.56     9408.07       97.49          0.0  conventional  2015  Albany  "
      ]
     },
     "execution_count": 9,
     "metadata": {},
     "output_type": "execute_result"
    }
   ],
   "source": [
    "data.head(2)"
   ]
  },
  {
   "cell_type": "raw",
   "metadata": {},
   "source": [
    "## Now first we are going to replace date column with (year,month,day)"
   ]
  },
  {
   "cell_type": "code",
   "execution_count": 10,
   "metadata": {},
   "outputs": [],
   "source": [
    "data['year']=pd.to_datetime(data['Date']).dt.year"
   ]
  },
  {
   "cell_type": "code",
   "execution_count": 11,
   "metadata": {},
   "outputs": [],
   "source": [
    "data['month']=pd.to_datetime(data['Date']).dt.month"
   ]
  },
  {
   "cell_type": "code",
   "execution_count": 12,
   "metadata": {},
   "outputs": [],
   "source": [
    "data['day']=pd.to_datetime(data['Date']).dt.day"
   ]
  },
  {
   "cell_type": "code",
   "execution_count": 13,
   "metadata": {},
   "outputs": [],
   "source": [
    "## now we will drop the date column :\n",
    "data.drop('Date',axis=1,inplace=True)"
   ]
  },
  {
   "cell_type": "code",
   "execution_count": 14,
   "metadata": {},
   "outputs": [
    {
     "data": {
      "text/html": [
       "<div>\n",
       "<style scoped>\n",
       "    .dataframe tbody tr th:only-of-type {\n",
       "        vertical-align: middle;\n",
       "    }\n",
       "\n",
       "    .dataframe tbody tr th {\n",
       "        vertical-align: top;\n",
       "    }\n",
       "\n",
       "    .dataframe thead th {\n",
       "        text-align: right;\n",
       "    }\n",
       "</style>\n",
       "<table border=\"1\" class=\"dataframe\">\n",
       "  <thead>\n",
       "    <tr style=\"text-align: right;\">\n",
       "      <th></th>\n",
       "      <th>Average Price</th>\n",
       "      <th>Total Value</th>\n",
       "      <th>4046</th>\n",
       "      <th>4225</th>\n",
       "      <th>4770</th>\n",
       "      <th>Total Bags</th>\n",
       "      <th>Small Bags</th>\n",
       "      <th>Large Bags</th>\n",
       "      <th>Xlarge Bags</th>\n",
       "      <th>type</th>\n",
       "      <th>year</th>\n",
       "      <th>region</th>\n",
       "      <th>month</th>\n",
       "      <th>day</th>\n",
       "    </tr>\n",
       "  </thead>\n",
       "  <tbody>\n",
       "    <tr>\n",
       "      <th>0</th>\n",
       "      <td>1.33</td>\n",
       "      <td>64236.62</td>\n",
       "      <td>1036.74</td>\n",
       "      <td>54454.85</td>\n",
       "      <td>48.16</td>\n",
       "      <td>8696.87</td>\n",
       "      <td>8603.62</td>\n",
       "      <td>93.25</td>\n",
       "      <td>0.0</td>\n",
       "      <td>conventional</td>\n",
       "      <td>2015</td>\n",
       "      <td>Albany</td>\n",
       "      <td>12</td>\n",
       "      <td>27</td>\n",
       "    </tr>\n",
       "    <tr>\n",
       "      <th>1</th>\n",
       "      <td>1.35</td>\n",
       "      <td>54876.98</td>\n",
       "      <td>674.28</td>\n",
       "      <td>44638.81</td>\n",
       "      <td>58.33</td>\n",
       "      <td>9505.56</td>\n",
       "      <td>9408.07</td>\n",
       "      <td>97.49</td>\n",
       "      <td>0.0</td>\n",
       "      <td>conventional</td>\n",
       "      <td>2015</td>\n",
       "      <td>Albany</td>\n",
       "      <td>12</td>\n",
       "      <td>20</td>\n",
       "    </tr>\n",
       "    <tr>\n",
       "      <th>2</th>\n",
       "      <td>0.93</td>\n",
       "      <td>118220.22</td>\n",
       "      <td>794.70</td>\n",
       "      <td>109149.67</td>\n",
       "      <td>130.50</td>\n",
       "      <td>8145.35</td>\n",
       "      <td>8042.21</td>\n",
       "      <td>103.14</td>\n",
       "      <td>0.0</td>\n",
       "      <td>conventional</td>\n",
       "      <td>2015</td>\n",
       "      <td>Albany</td>\n",
       "      <td>12</td>\n",
       "      <td>13</td>\n",
       "    </tr>\n",
       "    <tr>\n",
       "      <th>3</th>\n",
       "      <td>1.08</td>\n",
       "      <td>78992.15</td>\n",
       "      <td>1132.00</td>\n",
       "      <td>71976.41</td>\n",
       "      <td>72.58</td>\n",
       "      <td>5811.16</td>\n",
       "      <td>5677.40</td>\n",
       "      <td>133.76</td>\n",
       "      <td>0.0</td>\n",
       "      <td>conventional</td>\n",
       "      <td>2015</td>\n",
       "      <td>Albany</td>\n",
       "      <td>6</td>\n",
       "      <td>12</td>\n",
       "    </tr>\n",
       "    <tr>\n",
       "      <th>4</th>\n",
       "      <td>1.28</td>\n",
       "      <td>51039.60</td>\n",
       "      <td>941.48</td>\n",
       "      <td>43838.39</td>\n",
       "      <td>75.78</td>\n",
       "      <td>6183.95</td>\n",
       "      <td>5986.26</td>\n",
       "      <td>197.69</td>\n",
       "      <td>0.0</td>\n",
       "      <td>conventional</td>\n",
       "      <td>2015</td>\n",
       "      <td>Albany</td>\n",
       "      <td>11</td>\n",
       "      <td>29</td>\n",
       "    </tr>\n",
       "  </tbody>\n",
       "</table>\n",
       "</div>"
      ],
      "text/plain": [
       "   Average Price  Total Value     4046       4225    4770  Total Bags  \\\n",
       "0           1.33     64236.62  1036.74   54454.85   48.16     8696.87   \n",
       "1           1.35     54876.98   674.28   44638.81   58.33     9505.56   \n",
       "2           0.93    118220.22   794.70  109149.67  130.50     8145.35   \n",
       "3           1.08     78992.15  1132.00   71976.41   72.58     5811.16   \n",
       "4           1.28     51039.60   941.48   43838.39   75.78     6183.95   \n",
       "\n",
       "   Small Bags  Large Bags  Xlarge Bags          type  year  region  month  day  \n",
       "0     8603.62       93.25          0.0  conventional  2015  Albany     12   27  \n",
       "1     9408.07       97.49          0.0  conventional  2015  Albany     12   20  \n",
       "2     8042.21      103.14          0.0  conventional  2015  Albany     12   13  \n",
       "3     5677.40      133.76          0.0  conventional  2015  Albany      6   12  \n",
       "4     5986.26      197.69          0.0  conventional  2015  Albany     11   29  "
      ]
     },
     "execution_count": 14,
     "metadata": {},
     "output_type": "execute_result"
    }
   ],
   "source": [
    "## lets check the dataset :\n",
    "data.head()"
   ]
  },
  {
   "cell_type": "code",
   "execution_count": 15,
   "metadata": {},
   "outputs": [],
   "source": [
    "## we will drop the type column for now :\n",
    "data.drop('type',axis=1,inplace=True)"
   ]
  },
  {
   "cell_type": "code",
   "execution_count": 16,
   "metadata": {},
   "outputs": [
    {
     "data": {
      "text/html": [
       "<div>\n",
       "<style scoped>\n",
       "    .dataframe tbody tr th:only-of-type {\n",
       "        vertical-align: middle;\n",
       "    }\n",
       "\n",
       "    .dataframe tbody tr th {\n",
       "        vertical-align: top;\n",
       "    }\n",
       "\n",
       "    .dataframe thead th {\n",
       "        text-align: right;\n",
       "    }\n",
       "</style>\n",
       "<table border=\"1\" class=\"dataframe\">\n",
       "  <thead>\n",
       "    <tr style=\"text-align: right;\">\n",
       "      <th></th>\n",
       "      <th>Average Price</th>\n",
       "      <th>Total Value</th>\n",
       "      <th>4046</th>\n",
       "      <th>4225</th>\n",
       "      <th>4770</th>\n",
       "      <th>Total Bags</th>\n",
       "      <th>Small Bags</th>\n",
       "      <th>Large Bags</th>\n",
       "      <th>Xlarge Bags</th>\n",
       "      <th>year</th>\n",
       "      <th>region</th>\n",
       "      <th>month</th>\n",
       "      <th>day</th>\n",
       "    </tr>\n",
       "  </thead>\n",
       "  <tbody>\n",
       "    <tr>\n",
       "      <th>0</th>\n",
       "      <td>1.33</td>\n",
       "      <td>64236.62</td>\n",
       "      <td>1036.74</td>\n",
       "      <td>54454.85</td>\n",
       "      <td>48.16</td>\n",
       "      <td>8696.87</td>\n",
       "      <td>8603.62</td>\n",
       "      <td>93.25</td>\n",
       "      <td>0.0</td>\n",
       "      <td>2015</td>\n",
       "      <td>Albany</td>\n",
       "      <td>12</td>\n",
       "      <td>27</td>\n",
       "    </tr>\n",
       "    <tr>\n",
       "      <th>1</th>\n",
       "      <td>1.35</td>\n",
       "      <td>54876.98</td>\n",
       "      <td>674.28</td>\n",
       "      <td>44638.81</td>\n",
       "      <td>58.33</td>\n",
       "      <td>9505.56</td>\n",
       "      <td>9408.07</td>\n",
       "      <td>97.49</td>\n",
       "      <td>0.0</td>\n",
       "      <td>2015</td>\n",
       "      <td>Albany</td>\n",
       "      <td>12</td>\n",
       "      <td>20</td>\n",
       "    </tr>\n",
       "  </tbody>\n",
       "</table>\n",
       "</div>"
      ],
      "text/plain": [
       "   Average Price  Total Value     4046      4225   4770  Total Bags  \\\n",
       "0           1.33     64236.62  1036.74  54454.85  48.16     8696.87   \n",
       "1           1.35     54876.98   674.28  44638.81  58.33     9505.56   \n",
       "\n",
       "   Small Bags  Large Bags  Xlarge Bags  year  region  month  day  \n",
       "0     8603.62       93.25          0.0  2015  Albany     12   27  \n",
       "1     9408.07       97.49          0.0  2015  Albany     12   20  "
      ]
     },
     "execution_count": 16,
     "metadata": {},
     "output_type": "execute_result"
    }
   ],
   "source": [
    "data.head(2)"
   ]
  },
  {
   "cell_type": "code",
   "execution_count": 17,
   "metadata": {},
   "outputs": [],
   "source": [
    "## importing scikit learn library for LabelEncoder :\n",
    "from sklearn.preprocessing import LabelEncoder\n",
    "le=LabelEncoder()\n",
    "data['region']=le.fit_transform(data['region'])\n",
    "## we have now converted the region column :"
   ]
  },
  {
   "cell_type": "code",
   "execution_count": 18,
   "metadata": {},
   "outputs": [
    {
     "data": {
      "text/plain": [
       "<function matplotlib.pyplot.show(*args, **kw)>"
      ]
     },
     "execution_count": 18,
     "metadata": {},
     "output_type": "execute_result"
    },
    {
     "data": {
      "image/png": "[encoded data removed]",
      "text/plain": [
       "<Figure size 720x432 with 16 Axes>"
      ]
     },
     "metadata": {
      "needs_background": "light"
     },
     "output_type": "display_data"
    }
   ],
   "source": [
    "## lets plot the histogram of the columns :\n",
    "data.hist(figsize=(10,6))\n",
    "plt.show"
   ]
  },
  {
   "cell_type": "code",
   "execution_count": 19,
   "metadata": {},
   "outputs": [
    {
     "name": "stdout",
     "output_type": "stream",
     "text": [
      "AxesSubplot(0.125,0.125;0.775x0.755)\n"
     ]
    },
    {
     "data": {
      "image/png": "[encoded data removed]",
      "text/plain": [
       "<Figure size 432x288 with 1 Axes>"
      ]
     },
     "metadata": {
      "needs_background": "light"
     },
     "output_type": "display_data"
    }
   ],
   "source": [
    "## Univariate analysis :\n",
    "print(sns.countplot(data['day']))"
   ]
  },
  {
   "cell_type": "code",
   "execution_count": 20,
   "metadata": {},
   "outputs": [
    {
     "data": {
      "text/plain": [
       "<matplotlib.axes._subplots.AxesSubplot at 0x1adbdae18c8>"
      ]
     },
     "execution_count": 20,
     "metadata": {},
     "output_type": "execute_result"
    },
    {
     "data": {
      "image/png": "[encoded data removed]",
      "text/plain": [
       "<Figure size 432x288 with 1 Axes>"
      ]
     },
     "metadata": {
      "needs_background": "light"
     },
     "output_type": "display_data"
    }
   ],
   "source": [
    "## Univariate Analysis of day column :\n",
    "sns.distplot(data['day'])"
   ]
  },
  {
   "cell_type": "code",
   "execution_count": 21,
   "metadata": {},
   "outputs": [
    {
     "data": {
      "text/plain": [
       "<matplotlib.axes._subplots.AxesSubplot at 0x1adbdb5c608>"
      ]
     },
     "execution_count": 21,
     "metadata": {},
     "output_type": "execute_result"
    },
    {
     "data": {
      "image/png": "[encoded data removed]",
      "text/plain": [
       "<Figure size 432x288 with 1 Axes>"
      ]
     },
     "metadata": {
      "needs_background": "light"
     },
     "output_type": "display_data"
    }
   ],
   "source": [
    "sns.distplot(data['month'])"
   ]
  },
  {
   "cell_type": "code",
   "execution_count": 22,
   "metadata": {},
   "outputs": [
    {
     "data": {
      "image/png": "[encoded data removed]",
      "text/plain": [
       "<Figure size 864x864 with 16 Axes>"
      ]
     },
     "metadata": {
      "needs_background": "light"
     },
     "output_type": "display_data"
    }
   ],
   "source": [
    "## box plot for the better visualisation of all columns :\n",
    "data.plot(kind='box',subplots=True,layout=(4,4),fontsize=8,figsize=(12,12))\n",
    "plt.show()"
   ]
  },
  {
   "cell_type": "code",
   "execution_count": 23,
   "metadata": {},
   "outputs": [
    {
     "data": {
      "text/plain": [
       "Average Price   -0.109444\n",
       "Total Value      6.200138\n",
       "4046             6.051830\n",
       "4225             6.394926\n",
       "4770             5.405164\n",
       "Total Bags       5.366378\n",
       "Small Bags       5.355185\n",
       "Large Bags       5.144495\n",
       "Xlarge Bags      5.775077\n",
       "year             1.828332\n",
       "region           0.288146\n",
       "month            0.101439\n",
       "day              0.041303\n",
       "dtype: float64"
      ]
     },
     "execution_count": 23,
     "metadata": {},
     "output_type": "execute_result"
    }
   ],
   "source": [
    "## lets check the skewness :\n",
    "data.skew()"
   ]
  },
  {
   "cell_type": "code",
   "execution_count": 24,
   "metadata": {},
   "outputs": [
    {
     "name": "stdout",
     "output_type": "stream",
     "text": [
      "(1517, 13)\n",
      "(1436, 13)\n"
     ]
    }
   ],
   "source": [
    "## check the outliers from the dataset :\n",
    "from scipy.stats import zscore\n",
    "z_score=abs(zscore(data))\n",
    "print(data.shape)\n",
    "data_final=data.loc[(z_score<3).all(axis=1)]\n",
    "print(data_final.shape)"
   ]
  },
  {
   "cell_type": "code",
   "execution_count": 25,
   "metadata": {},
   "outputs": [
    {
     "data": {
      "text/plain": [
       "Average Price   -0.109444\n",
       "Total Value      6.200138\n",
       "4046             6.051830\n",
       "4225             6.394926\n",
       "4770             5.405164\n",
       "Total Bags       5.366378\n",
       "Small Bags       5.355185\n",
       "Large Bags       5.144495\n",
       "Xlarge Bags      5.775077\n",
       "year             1.828332\n",
       "region           0.288146\n",
       "month            0.101439\n",
       "day              0.041303\n",
       "dtype: float64"
      ]
     },
     "execution_count": 25,
     "metadata": {},
     "output_type": "execute_result"
    }
   ],
   "source": [
    "data.skew()"
   ]
  },
  {
   "cell_type": "code",
   "execution_count": 26,
   "metadata": {},
   "outputs": [],
   "source": [
    "## we will use for loop for removing skewness :\n",
    "for i in data.columns:\n",
    "    if data.skew().loc[i]>0.55:\n",
    "        data[i]=np.log1p(data[i])"
   ]
  },
  {
   "cell_type": "code",
   "execution_count": 27,
   "metadata": {},
   "outputs": [
    {
     "data": {
      "text/plain": [
       "Average Price   -0.109444\n",
       "Total Value      0.667468\n",
       "4046            -0.160268\n",
       "4225             0.184436\n",
       "4770            -0.355508\n",
       "Total Bags       0.695502\n",
       "Small Bags       0.713843\n",
       "Large Bags      -0.912766\n",
       "Xlarge Bags      0.783913\n",
       "year             1.828332\n",
       "region           0.288146\n",
       "month            0.101439\n",
       "day              0.041303\n",
       "dtype: float64"
      ]
     },
     "execution_count": 27,
     "metadata": {},
     "output_type": "execute_result"
    }
   ],
   "source": [
    "data.skew()"
   ]
  },
  {
   "cell_type": "code",
   "execution_count": 28,
   "metadata": {},
   "outputs": [],
   "source": [
    "for i in data.columns:\n",
    "    if data.skew().loc[i]>0.55:\n",
    "        data[i]=np.log1p(data[i])"
   ]
  },
  {
   "cell_type": "code",
   "execution_count": 29,
   "metadata": {},
   "outputs": [
    {
     "data": {
      "text/plain": [
       "Average Price   -0.109444\n",
       "Total Value      0.442500\n",
       "4046            -0.160268\n",
       "4225             0.184436\n",
       "4770            -0.355508\n",
       "Total Bags       0.368284\n",
       "Small Bags       0.409053\n",
       "Large Bags      -0.912766\n",
       "Xlarge Bags      0.348073\n",
       "year             1.828332\n",
       "region           0.288146\n",
       "month            0.101439\n",
       "day              0.041303\n",
       "dtype: float64"
      ]
     },
     "execution_count": 29,
     "metadata": {},
     "output_type": "execute_result"
    }
   ],
   "source": [
    "data.skew()"
   ]
  },
  {
   "cell_type": "code",
   "execution_count": 30,
   "metadata": {},
   "outputs": [],
   "source": [
    "for i in data.columns:\n",
    "    if data.skew().loc[i]>0.55:\n",
    "        data[i]=np.log1p(data[i])"
   ]
  },
  {
   "cell_type": "code",
   "execution_count": 31,
   "metadata": {},
   "outputs": [],
   "source": [
    "for i in data.columns:\n",
    "    if data.skew().loc[i]>0.55:\n",
    "        data[i]=np.log1p(data[i])"
   ]
  },
  {
   "cell_type": "code",
   "execution_count": 32,
   "metadata": {},
   "outputs": [],
   "source": [
    "for i in data.columns:\n",
    "    if data.skew().loc[i]>0.55:\n",
    "        data[i]=np.log1p(data[i])"
   ]
  },
  {
   "cell_type": "code",
   "execution_count": 33,
   "metadata": {},
   "outputs": [
    {
     "data": {
      "text/plain": [
       "Average Price   -0.109444\n",
       "Total Value      0.442500\n",
       "4046            -0.160268\n",
       "4225             0.184436\n",
       "4770            -0.355508\n",
       "Total Bags       0.368284\n",
       "Small Bags       0.409053\n",
       "Large Bags      -0.912766\n",
       "Xlarge Bags      0.348073\n",
       "year             1.828332\n",
       "region           0.288146\n",
       "month            0.101439\n",
       "day              0.041303\n",
       "dtype: float64"
      ]
     },
     "execution_count": 33,
     "metadata": {},
     "output_type": "execute_result"
    }
   ],
   "source": [
    "data.skew()"
   ]
  },
  {
   "cell_type": "code",
   "execution_count": 34,
   "metadata": {},
   "outputs": [],
   "source": [
    "for i in data.columns:\n",
    "    if data.skew().loc[i]>0.55:\n",
    "        data[i]=np.log1p(data[i])"
   ]
  },
  {
   "cell_type": "code",
   "execution_count": 35,
   "metadata": {},
   "outputs": [],
   "source": [
    "for i in data.columns:\n",
    "    if data.skew().loc[i]>0.55:\n",
    "        data[i]=np.log1p(data[i])"
   ]
  },
  {
   "cell_type": "code",
   "execution_count": 36,
   "metadata": {},
   "outputs": [
    {
     "data": {
      "text/plain": [
       "Average Price   -0.109444\n",
       "Total Value      0.442500\n",
       "4046            -0.160268\n",
       "4225             0.184436\n",
       "4770            -0.355508\n",
       "Total Bags       0.368284\n",
       "Small Bags       0.409053\n",
       "Large Bags      -0.912766\n",
       "Xlarge Bags      0.348073\n",
       "year             0.000000\n",
       "region           0.288146\n",
       "month            0.101439\n",
       "day              0.041303\n",
       "dtype: float64"
      ]
     },
     "execution_count": 36,
     "metadata": {},
     "output_type": "execute_result"
    }
   ],
   "source": [
    "data.skew()"
   ]
  },
  {
   "cell_type": "code",
   "execution_count": 37,
   "metadata": {},
   "outputs": [
    {
     "data": {
      "text/html": [
       "<div>\n",
       "<style scoped>\n",
       "    .dataframe tbody tr th:only-of-type {\n",
       "        vertical-align: middle;\n",
       "    }\n",
       "\n",
       "    .dataframe tbody tr th {\n",
       "        vertical-align: top;\n",
       "    }\n",
       "\n",
       "    .dataframe thead th {\n",
       "        text-align: right;\n",
       "    }\n",
       "</style>\n",
       "<table border=\"1\" class=\"dataframe\">\n",
       "  <thead>\n",
       "    <tr style=\"text-align: right;\">\n",
       "      <th></th>\n",
       "      <th>Average Price</th>\n",
       "      <th>Total Value</th>\n",
       "      <th>4046</th>\n",
       "      <th>4225</th>\n",
       "      <th>4770</th>\n",
       "      <th>Total Bags</th>\n",
       "      <th>Small Bags</th>\n",
       "      <th>Large Bags</th>\n",
       "      <th>Xlarge Bags</th>\n",
       "      <th>year</th>\n",
       "      <th>region</th>\n",
       "      <th>month</th>\n",
       "      <th>day</th>\n",
       "    </tr>\n",
       "  </thead>\n",
       "  <tbody>\n",
       "    <tr>\n",
       "      <th>count</th>\n",
       "      <td>1517.000000</td>\n",
       "      <td>1517.000000</td>\n",
       "      <td>1517.000000</td>\n",
       "      <td>1517.000000</td>\n",
       "      <td>1517.000000</td>\n",
       "      <td>1517.000000</td>\n",
       "      <td>1517.000000</td>\n",
       "      <td>1517.000000</td>\n",
       "      <td>1517.000000</td>\n",
       "      <td>1517.000000</td>\n",
       "      <td>1517.000000</td>\n",
       "      <td>1517.000000</td>\n",
       "      <td>1517.000000</td>\n",
       "    </tr>\n",
       "    <tr>\n",
       "      <th>mean</th>\n",
       "      <td>1.074990</td>\n",
       "      <td>2.635352</td>\n",
       "      <td>11.216036</td>\n",
       "      <td>11.871686</td>\n",
       "      <td>8.557664</td>\n",
       "      <td>2.510865</td>\n",
       "      <td>2.495224</td>\n",
       "      <td>7.848268</td>\n",
       "      <td>0.881380</td>\n",
       "      <td>0.449779</td>\n",
       "      <td>21.196440</td>\n",
       "      <td>6.362558</td>\n",
       "      <td>15.253790</td>\n",
       "    </tr>\n",
       "    <tr>\n",
       "      <th>std</th>\n",
       "      <td>0.188891</td>\n",
       "      <td>0.100158</td>\n",
       "      <td>2.337126</td>\n",
       "      <td>1.703644</td>\n",
       "      <td>2.575991</td>\n",
       "      <td>0.108593</td>\n",
       "      <td>0.111192</td>\n",
       "      <td>3.417046</td>\n",
       "      <td>0.977006</td>\n",
       "      <td>0.000001</td>\n",
       "      <td>16.132398</td>\n",
       "      <td>3.472146</td>\n",
       "      <td>8.965902</td>\n",
       "    </tr>\n",
       "    <tr>\n",
       "      <th>min</th>\n",
       "      <td>0.490000</td>\n",
       "      <td>2.447977</td>\n",
       "      <td>6.150006</td>\n",
       "      <td>7.487045</td>\n",
       "      <td>0.000000</td>\n",
       "      <td>2.208883</td>\n",
       "      <td>2.208883</td>\n",
       "      <td>0.000000</td>\n",
       "      <td>0.000000</td>\n",
       "      <td>0.449778</td>\n",
       "      <td>0.000000</td>\n",
       "      <td>1.000000</td>\n",
       "      <td>1.000000</td>\n",
       "    </tr>\n",
       "    <tr>\n",
       "      <th>25%</th>\n",
       "      <td>0.980000</td>\n",
       "      <td>2.557335</td>\n",
       "      <td>9.923356</td>\n",
       "      <td>10.632896</td>\n",
       "      <td>6.815914</td>\n",
       "      <td>2.442089</td>\n",
       "      <td>2.424790</td>\n",
       "      <td>6.294786</td>\n",
       "      <td>0.000000</td>\n",
       "      <td>0.449778</td>\n",
       "      <td>6.000000</td>\n",
       "      <td>3.000000</td>\n",
       "      <td>7.000000</td>\n",
       "    </tr>\n",
       "    <tr>\n",
       "      <th>50%</th>\n",
       "      <td>1.080000</td>\n",
       "      <td>2.632333</td>\n",
       "      <td>11.311448</td>\n",
       "      <td>11.684067</td>\n",
       "      <td>8.947568</td>\n",
       "      <td>2.502382</td>\n",
       "      <td>2.488313</td>\n",
       "      <td>8.526222</td>\n",
       "      <td>0.000000</td>\n",
       "      <td>0.449778</td>\n",
       "      <td>19.000000</td>\n",
       "      <td>6.000000</td>\n",
       "      <td>15.000000</td>\n",
       "    </tr>\n",
       "    <tr>\n",
       "      <th>75%</th>\n",
       "      <td>1.190000</td>\n",
       "      <td>2.694446</td>\n",
       "      <td>12.841536</td>\n",
       "      <td>13.092216</td>\n",
       "      <td>10.280838</td>\n",
       "      <td>2.562476</td>\n",
       "      <td>2.556664</td>\n",
       "      <td>10.284273</td>\n",
       "      <td>1.945574</td>\n",
       "      <td>0.449778</td>\n",
       "      <td>35.000000</td>\n",
       "      <td>9.000000</td>\n",
       "      <td>22.000000</td>\n",
       "    </tr>\n",
       "    <tr>\n",
       "      <th>max</th>\n",
       "      <td>1.680000</td>\n",
       "      <td>2.923940</td>\n",
       "      <td>16.756419</td>\n",
       "      <td>16.757656</td>\n",
       "      <td>14.138693</td>\n",
       "      <td>2.816786</td>\n",
       "      <td>2.808763</td>\n",
       "      <td>13.929801</td>\n",
       "      <td>2.532948</td>\n",
       "      <td>0.449781</td>\n",
       "      <td>50.000000</td>\n",
       "      <td>12.000000</td>\n",
       "      <td>31.000000</td>\n",
       "    </tr>\n",
       "  </tbody>\n",
       "</table>\n",
       "</div>"
      ],
      "text/plain": [
       "       Average Price  Total Value         4046         4225         4770  \\\n",
       "count    1517.000000  1517.000000  1517.000000  1517.000000  1517.000000   \n",
       "mean        1.074990     2.635352    11.216036    11.871686     8.557664   \n",
       "std         0.188891     0.100158     2.337126     1.703644     2.575991   \n",
       "min         0.490000     2.447977     6.150006     7.487045     0.000000   \n",
       "25%         0.980000     2.557335     9.923356    10.632896     6.815914   \n",
       "50%         1.080000     2.632333    11.311448    11.684067     8.947568   \n",
       "75%         1.190000     2.694446    12.841536    13.092216    10.280838   \n",
       "max         1.680000     2.923940    16.756419    16.757656    14.138693   \n",
       "\n",
       "        Total Bags   Small Bags   Large Bags  Xlarge Bags         year  \\\n",
       "count  1517.000000  1517.000000  1517.000000  1517.000000  1517.000000   \n",
       "mean      2.510865     2.495224     7.848268     0.881380     0.449779   \n",
       "std       0.108593     0.111192     3.417046     0.977006     0.000001   \n",
       "min       2.208883     2.208883     0.000000     0.000000     0.449778   \n",
       "25%       2.442089     2.424790     6.294786     0.000000     0.449778   \n",
       "50%       2.502382     2.488313     8.526222     0.000000     0.449778   \n",
       "75%       2.562476     2.556664    10.284273     1.945574     0.449778   \n",
       "max       2.816786     2.808763    13.929801     2.532948     0.449781   \n",
       "\n",
       "            region        month          day  \n",
       "count  1517.000000  1517.000000  1517.000000  \n",
       "mean     21.196440     6.362558    15.253790  \n",
       "std      16.132398     3.472146     8.965902  \n",
       "min       0.000000     1.000000     1.000000  \n",
       "25%       6.000000     3.000000     7.000000  \n",
       "50%      19.000000     6.000000    15.000000  \n",
       "75%      35.000000     9.000000    22.000000  \n",
       "max      50.000000    12.000000    31.000000  "
      ]
     },
     "execution_count": 37,
     "metadata": {},
     "output_type": "execute_result"
    }
   ],
   "source": [
    "## Stastistical Analysis :\n",
    "data.describe()"
   ]
  },
  {
   "cell_type": "code",
   "execution_count": 38,
   "metadata": {},
   "outputs": [
    {
     "data": {
      "text/html": [
       "<div>\n",
       "<style scoped>\n",
       "    .dataframe tbody tr th:only-of-type {\n",
       "        vertical-align: middle;\n",
       "    }\n",
       "\n",
       "    .dataframe tbody tr th {\n",
       "        vertical-align: top;\n",
       "    }\n",
       "\n",
       "    .dataframe thead th {\n",
       "        text-align: right;\n",
       "    }\n",
       "</style>\n",
       "<table border=\"1\" class=\"dataframe\">\n",
       "  <thead>\n",
       "    <tr style=\"text-align: right;\">\n",
       "      <th></th>\n",
       "      <th>Average Price</th>\n",
       "      <th>Total Value</th>\n",
       "      <th>4046</th>\n",
       "      <th>4225</th>\n",
       "      <th>4770</th>\n",
       "      <th>Total Bags</th>\n",
       "      <th>Small Bags</th>\n",
       "      <th>Large Bags</th>\n",
       "      <th>Xlarge Bags</th>\n",
       "      <th>year</th>\n",
       "      <th>region</th>\n",
       "      <th>month</th>\n",
       "      <th>day</th>\n",
       "    </tr>\n",
       "  </thead>\n",
       "  <tbody>\n",
       "    <tr>\n",
       "      <th>Average Price</th>\n",
       "      <td>1.000000</td>\n",
       "      <td>-0.331623</td>\n",
       "      <td>-0.511040</td>\n",
       "      <td>-0.129466</td>\n",
       "      <td>-0.289056</td>\n",
       "      <td>-0.193298</td>\n",
       "      <td>-0.151217</td>\n",
       "      <td>-0.214802</td>\n",
       "      <td>-0.076257</td>\n",
       "      <td>0.178683</td>\n",
       "      <td>-0.229408</td>\n",
       "      <td>0.060642</td>\n",
       "      <td>0.092589</td>\n",
       "    </tr>\n",
       "    <tr>\n",
       "      <th>Total Value</th>\n",
       "      <td>-0.331623</td>\n",
       "      <td>1.000000</td>\n",
       "      <td>0.766455</td>\n",
       "      <td>0.888399</td>\n",
       "      <td>0.635501</td>\n",
       "      <td>0.930257</td>\n",
       "      <td>0.916014</td>\n",
       "      <td>0.586056</td>\n",
       "      <td>0.371424</td>\n",
       "      <td>-0.001029</td>\n",
       "      <td>0.191370</td>\n",
       "      <td>-0.072194</td>\n",
       "      <td>-0.050272</td>\n",
       "    </tr>\n",
       "    <tr>\n",
       "      <th>4046</th>\n",
       "      <td>-0.511040</td>\n",
       "      <td>0.766455</td>\n",
       "      <td>1.000000</td>\n",
       "      <td>0.456283</td>\n",
       "      <td>0.584634</td>\n",
       "      <td>0.648819</td>\n",
       "      <td>0.613529</td>\n",
       "      <td>0.522558</td>\n",
       "      <td>0.293231</td>\n",
       "      <td>-0.124610</td>\n",
       "      <td>0.324688</td>\n",
       "      <td>-0.067074</td>\n",
       "      <td>-0.037744</td>\n",
       "    </tr>\n",
       "    <tr>\n",
       "      <th>4225</th>\n",
       "      <td>-0.129466</td>\n",
       "      <td>0.888399</td>\n",
       "      <td>0.456283</td>\n",
       "      <td>1.000000</td>\n",
       "      <td>0.552522</td>\n",
       "      <td>0.836145</td>\n",
       "      <td>0.844951</td>\n",
       "      <td>0.453820</td>\n",
       "      <td>0.334889</td>\n",
       "      <td>0.005161</td>\n",
       "      <td>0.134603</td>\n",
       "      <td>-0.043650</td>\n",
       "      <td>-0.047734</td>\n",
       "    </tr>\n",
       "    <tr>\n",
       "      <th>4770</th>\n",
       "      <td>-0.289056</td>\n",
       "      <td>0.635501</td>\n",
       "      <td>0.584634</td>\n",
       "      <td>0.552522</td>\n",
       "      <td>1.000000</td>\n",
       "      <td>0.573198</td>\n",
       "      <td>0.585747</td>\n",
       "      <td>0.361404</td>\n",
       "      <td>0.529174</td>\n",
       "      <td>0.004865</td>\n",
       "      <td>0.052908</td>\n",
       "      <td>-0.020798</td>\n",
       "      <td>0.001779</td>\n",
       "    </tr>\n",
       "    <tr>\n",
       "      <th>Total Bags</th>\n",
       "      <td>-0.193298</td>\n",
       "      <td>0.930257</td>\n",
       "      <td>0.648819</td>\n",
       "      <td>0.836145</td>\n",
       "      <td>0.573198</td>\n",
       "      <td>1.000000</td>\n",
       "      <td>0.983213</td>\n",
       "      <td>0.594937</td>\n",
       "      <td>0.429193</td>\n",
       "      <td>0.135737</td>\n",
       "      <td>0.156391</td>\n",
       "      <td>-0.055674</td>\n",
       "      <td>-0.034187</td>\n",
       "    </tr>\n",
       "    <tr>\n",
       "      <th>Small Bags</th>\n",
       "      <td>-0.151217</td>\n",
       "      <td>0.916014</td>\n",
       "      <td>0.613529</td>\n",
       "      <td>0.844951</td>\n",
       "      <td>0.585747</td>\n",
       "      <td>0.983213</td>\n",
       "      <td>1.000000</td>\n",
       "      <td>0.493186</td>\n",
       "      <td>0.415593</td>\n",
       "      <td>0.166621</td>\n",
       "      <td>0.142519</td>\n",
       "      <td>-0.060880</td>\n",
       "      <td>-0.027511</td>\n",
       "    </tr>\n",
       "    <tr>\n",
       "      <th>Large Bags</th>\n",
       "      <td>-0.214802</td>\n",
       "      <td>0.586056</td>\n",
       "      <td>0.522558</td>\n",
       "      <td>0.453820</td>\n",
       "      <td>0.361404</td>\n",
       "      <td>0.594937</td>\n",
       "      <td>0.493186</td>\n",
       "      <td>1.000000</td>\n",
       "      <td>0.263993</td>\n",
       "      <td>-0.112991</td>\n",
       "      <td>0.084499</td>\n",
       "      <td>-0.038081</td>\n",
       "      <td>-0.037542</td>\n",
       "    </tr>\n",
       "    <tr>\n",
       "      <th>Xlarge Bags</th>\n",
       "      <td>-0.076257</td>\n",
       "      <td>0.371424</td>\n",
       "      <td>0.293231</td>\n",
       "      <td>0.334889</td>\n",
       "      <td>0.529174</td>\n",
       "      <td>0.429193</td>\n",
       "      <td>0.415593</td>\n",
       "      <td>0.263993</td>\n",
       "      <td>1.000000</td>\n",
       "      <td>0.159034</td>\n",
       "      <td>-0.151739</td>\n",
       "      <td>0.070056</td>\n",
       "      <td>0.030230</td>\n",
       "    </tr>\n",
       "    <tr>\n",
       "      <th>year</th>\n",
       "      <td>0.178683</td>\n",
       "      <td>-0.001029</td>\n",
       "      <td>-0.124610</td>\n",
       "      <td>0.005161</td>\n",
       "      <td>0.004865</td>\n",
       "      <td>0.135737</td>\n",
       "      <td>0.166621</td>\n",
       "      <td>-0.112991</td>\n",
       "      <td>0.159034</td>\n",
       "      <td>1.000000</td>\n",
       "      <td>-0.470472</td>\n",
       "      <td>-0.013144</td>\n",
       "      <td>0.029744</td>\n",
       "    </tr>\n",
       "    <tr>\n",
       "      <th>region</th>\n",
       "      <td>-0.229408</td>\n",
       "      <td>0.191370</td>\n",
       "      <td>0.324688</td>\n",
       "      <td>0.134603</td>\n",
       "      <td>0.052908</td>\n",
       "      <td>0.156391</td>\n",
       "      <td>0.142519</td>\n",
       "      <td>0.084499</td>\n",
       "      <td>-0.151739</td>\n",
       "      <td>-0.470472</td>\n",
       "      <td>1.000000</td>\n",
       "      <td>0.000977</td>\n",
       "      <td>-0.028670</td>\n",
       "    </tr>\n",
       "    <tr>\n",
       "      <th>month</th>\n",
       "      <td>0.060642</td>\n",
       "      <td>-0.072194</td>\n",
       "      <td>-0.067074</td>\n",
       "      <td>-0.043650</td>\n",
       "      <td>-0.020798</td>\n",
       "      <td>-0.055674</td>\n",
       "      <td>-0.060880</td>\n",
       "      <td>-0.038081</td>\n",
       "      <td>0.070056</td>\n",
       "      <td>-0.013144</td>\n",
       "      <td>0.000977</td>\n",
       "      <td>1.000000</td>\n",
       "      <td>-0.024337</td>\n",
       "    </tr>\n",
       "    <tr>\n",
       "      <th>day</th>\n",
       "      <td>0.092589</td>\n",
       "      <td>-0.050272</td>\n",
       "      <td>-0.037744</td>\n",
       "      <td>-0.047734</td>\n",
       "      <td>0.001779</td>\n",
       "      <td>-0.034187</td>\n",
       "      <td>-0.027511</td>\n",
       "      <td>-0.037542</td>\n",
       "      <td>0.030230</td>\n",
       "      <td>0.029744</td>\n",
       "      <td>-0.028670</td>\n",
       "      <td>-0.024337</td>\n",
       "      <td>1.000000</td>\n",
       "    </tr>\n",
       "  </tbody>\n",
       "</table>\n",
       "</div>"
      ],
      "text/plain": [
       "               Average Price  Total Value      4046      4225      4770  \\\n",
       "Average Price       1.000000    -0.331623 -0.511040 -0.129466 -0.289056   \n",
       "Total Value        -0.331623     1.000000  0.766455  0.888399  0.635501   \n",
       "4046               -0.511040     0.766455  1.000000  0.456283  0.584634   \n",
       "4225               -0.129466     0.888399  0.456283  1.000000  0.552522   \n",
       "4770               -0.289056     0.635501  0.584634  0.552522  1.000000   \n",
       "Total Bags         -0.193298     0.930257  0.648819  0.836145  0.573198   \n",
       "Small Bags         -0.151217     0.916014  0.613529  0.844951  0.585747   \n",
       "Large Bags         -0.214802     0.586056  0.522558  0.453820  0.361404   \n",
       "Xlarge Bags        -0.076257     0.371424  0.293231  0.334889  0.529174   \n",
       "year                0.178683    -0.001029 -0.124610  0.005161  0.004865   \n",
       "region             -0.229408     0.191370  0.324688  0.134603  0.052908   \n",
       "month               0.060642    -0.072194 -0.067074 -0.043650 -0.020798   \n",
       "day                 0.092589    -0.050272 -0.037744 -0.047734  0.001779   \n",
       "\n",
       "               Total Bags  Small Bags  Large Bags  Xlarge Bags      year  \\\n",
       "Average Price   -0.193298   -0.151217   -0.214802    -0.076257  0.178683   \n",
       "Total Value      0.930257    0.916014    0.586056     0.371424 -0.001029   \n",
       "4046             0.648819    0.613529    0.522558     0.293231 -0.124610   \n",
       "4225             0.836145    0.844951    0.453820     0.334889  0.005161   \n",
       "4770             0.573198    0.585747    0.361404     0.529174  0.004865   \n",
       "Total Bags       1.000000    0.983213    0.594937     0.429193  0.135737   \n",
       "Small Bags       0.983213    1.000000    0.493186     0.415593  0.166621   \n",
       "Large Bags       0.594937    0.493186    1.000000     0.263993 -0.112991   \n",
       "Xlarge Bags      0.429193    0.415593    0.263993     1.000000  0.159034   \n",
       "year             0.135737    0.166621   -0.112991     0.159034  1.000000   \n",
       "region           0.156391    0.142519    0.084499    -0.151739 -0.470472   \n",
       "month           -0.055674   -0.060880   -0.038081     0.070056 -0.013144   \n",
       "day             -0.034187   -0.027511   -0.037542     0.030230  0.029744   \n",
       "\n",
       "                 region     month       day  \n",
       "Average Price -0.229408  0.060642  0.092589  \n",
       "Total Value    0.191370 -0.072194 -0.050272  \n",
       "4046           0.324688 -0.067074 -0.037744  \n",
       "4225           0.134603 -0.043650 -0.047734  \n",
       "4770           0.052908 -0.020798  0.001779  \n",
       "Total Bags     0.156391 -0.055674 -0.034187  \n",
       "Small Bags     0.142519 -0.060880 -0.027511  \n",
       "Large Bags     0.084499 -0.038081 -0.037542  \n",
       "Xlarge Bags   -0.151739  0.070056  0.030230  \n",
       "year          -0.470472 -0.013144  0.029744  \n",
       "region         1.000000  0.000977 -0.028670  \n",
       "month          0.000977  1.000000 -0.024337  \n",
       "day           -0.028670 -0.024337  1.000000  "
      ]
     },
     "execution_count": 38,
     "metadata": {},
     "output_type": "execute_result"
    }
   ],
   "source": [
    "## correlation of the given dataset :\n",
    "dfr=data.corr()\n",
    "dfr"
   ]
  },
  {
   "cell_type": "code",
   "execution_count": 39,
   "metadata": {},
   "outputs": [
    {
     "data": {
      "image/png": "[encoded data removed]",
      "text/plain": [
       "<Figure size 1008x720 with 2 Axes>"
      ]
     },
     "metadata": {
      "needs_background": "light"
     },
     "output_type": "display_data"
    }
   ],
   "source": [
    "## Correlation of data by heatmap :\n",
    "plt.figure(figsize=(14,10))\n",
    "sns.heatmap(dfr,annot=True)\n",
    "plt.show()"
   ]
  },
  {
   "cell_type": "code",
   "execution_count": 40,
   "metadata": {},
   "outputs": [],
   "source": [
    "## splitting the data into X and y :\n",
    "X=data.drop('Average Price',axis=1)\n",
    "y=data['Average Price']"
   ]
  },
  {
   "cell_type": "code",
   "execution_count": 41,
   "metadata": {},
   "outputs": [],
   "source": [
    "from sklearn.model_selection import train_test_split\n",
    "X_train,X_test,y_train,y_test=train_test_split(X,y,test_size=0.2,random_state=42)"
   ]
  },
  {
   "cell_type": "markdown",
   "metadata": {},
   "source": [
    "# Regression"
   ]
  },
  {
   "cell_type": "markdown",
   "metadata": {},
   "source": [
    "# LinearRegression"
   ]
  },
  {
   "cell_type": "code",
   "execution_count": 42,
   "metadata": {},
   "outputs": [
    {
     "data": {
      "text/plain": [
       "array([1.1068377 , 1.2524615 , 1.05571434, 1.05668479, 1.31845082,\n",
       "       1.02036833, 1.07268526, 1.08867668, 0.96416321, 1.04569549,\n",
       "       1.01196524, 1.06354123, 1.21876544, 0.89649902, 1.04713438,\n",
       "       1.22816364, 1.13356584, 1.01934366, 1.05475216, 1.33655491,\n",
       "       1.08812975, 1.11367289, 1.04779685, 1.35158001, 1.2408333 ,\n",
       "       0.83616035, 1.11373338, 0.95452532, 1.08426569, 0.98783207,\n",
       "       1.13721943, 0.93721637, 1.25159027, 1.09465987, 0.98275162,\n",
       "       1.32586962, 1.27650317, 0.89604993, 0.97437946, 1.04183145,\n",
       "       1.02294909, 1.24061707, 1.36140704, 1.0853771 , 0.9677082 ,\n",
       "       1.12926208, 1.10693115, 0.99217102, 1.10651691, 1.08933752,\n",
       "       1.13020367, 1.03886035, 1.16196488, 1.19534106, 1.04700682,\n",
       "       1.13403302, 1.16421719, 1.04513743, 1.06874372, 1.06013277,\n",
       "       1.11711926, 1.14111189, 1.27905891, 1.14682144, 1.0665186 ,\n",
       "       0.95872478, 0.81672225, 1.17689082, 0.97296477, 0.98643495,\n",
       "       1.08290064, 0.95990664, 1.05069538, 1.02935565, 0.96820866,\n",
       "       0.97617094, 1.09614035, 1.10254812, 1.09528715, 0.91187813,\n",
       "       1.08477189, 0.95625701, 1.16528078, 0.89133125, 0.88742302,\n",
       "       0.95251648, 0.95937087, 0.96162857, 1.18171476, 1.15242103,\n",
       "       1.04386015, 1.2714456 , 1.06914223, 1.03342228, 0.96693151,\n",
       "       1.19813221, 1.27286786, 1.15592469, 0.94362408, 1.06412328,\n",
       "       1.17665074, 0.94303757, 1.06446865, 0.92773208, 1.13362944,\n",
       "       0.90592342, 1.00739888, 1.03066928, 1.00324902, 1.11753805,\n",
       "       1.06474203, 1.25052854, 1.14869662, 1.14628996, 0.91772052,\n",
       "       1.15434433, 1.04199701, 1.14783863, 1.07372915, 0.93707662,\n",
       "       1.07646735, 1.04173083, 1.31251849, 1.022699  , 1.31999237,\n",
       "       0.85593498, 1.1976822 , 1.0110142 , 1.12424563, 1.00576978,\n",
       "       1.19609716, 1.14904913, 0.97818597, 1.05618597, 0.93413548,\n",
       "       1.23254361, 1.20839149, 1.10316766, 1.03347768, 1.1013831 ,\n",
       "       1.12680337, 1.19750316, 1.1305135 , 1.24169148, 1.1183526 ,\n",
       "       1.05881999, 1.06864239, 1.07344286, 1.0518705 , 1.04108403,\n",
       "       1.0476139 , 0.89761434, 1.15748677, 1.09077248, 1.14376293,\n",
       "       0.96195968, 1.00455756, 1.03988234, 0.76833678, 1.02428081,\n",
       "       0.95251501, 0.97871738, 1.29409162, 0.98067812, 1.03043391,\n",
       "       0.93904893, 0.91136141, 0.94155288, 1.26246278, 1.24379422,\n",
       "       0.99259377, 0.95163239, 1.02239634, 1.11675853, 1.03025956,\n",
       "       1.12359909, 1.02362304, 0.85174641, 0.99974791, 0.97649967,\n",
       "       0.95909107, 1.16224228, 1.12558618, 1.17873995, 1.14332889,\n",
       "       0.9965942 , 1.15908274, 1.12814858, 0.85201885, 0.96583549,\n",
       "       1.06166621, 0.97987728, 1.09943583, 1.12940919, 1.30326343,\n",
       "       1.04098294, 1.09411886, 1.10087504, 1.19802655, 0.97865168,\n",
       "       1.04262602, 1.24054186, 1.05808998, 0.90776114, 0.99204904,\n",
       "       1.20273251, 1.23407817, 0.90885715, 1.06534395, 1.05437617,\n",
       "       1.20927681, 0.99896392, 1.02796466, 1.08539949, 0.98926037,\n",
       "       0.91975245, 1.08751869, 0.99126842, 1.05813871, 0.96037832,\n",
       "       0.98651486, 1.00795724, 1.06594586, 1.09095772, 0.89593206,\n",
       "       1.18320836, 1.06507678, 0.92819432, 1.02247163, 1.15126235,\n",
       "       0.93447224, 0.9703745 , 1.07730831, 0.9457354 , 0.95454378,\n",
       "       1.12881137, 1.15950256, 1.13516753, 1.33420498, 1.01721943,\n",
       "       1.14621291, 1.15685641, 0.88301665, 0.98391467, 1.07105198,\n",
       "       0.93495389, 0.92197329, 1.03615365, 1.23623825, 1.1032434 ,\n",
       "       0.96011026, 0.9024853 , 0.95301028, 1.20924704, 1.068068  ,\n",
       "       1.12446094, 1.14312748, 1.07172744, 0.96962674, 1.24738217,\n",
       "       0.94088076, 1.20763721, 1.15616056, 1.0949785 , 1.27811491,\n",
       "       0.90762175, 1.12726858, 1.03696986, 1.16732785, 1.07402846,\n",
       "       1.03395364, 0.91927022, 1.0437475 , 1.07190576, 0.93991638,\n",
       "       1.14944905, 1.03725861, 1.05867524, 1.00728529, 1.00176308,\n",
       "       1.21209742, 1.20627561, 1.06772083, 1.15324223, 0.92659404,\n",
       "       0.94563641, 0.92804775, 1.00373737, 1.00894261, 1.01621343,\n",
       "       1.12587742, 1.06385454, 0.90075747, 1.0825258 , 0.93989642,\n",
       "       0.9552753 , 1.23905101, 0.92590621, 1.27796353, 1.02527934,\n",
       "       1.09478202, 1.13060824, 1.03707839, 1.15659067])"
      ]
     },
     "execution_count": 42,
     "metadata": {},
     "output_type": "execute_result"
    }
   ],
   "source": [
    "## importing the sklearn library :\n",
    "from sklearn.linear_model import LinearRegression\n",
    "lr=LinearRegression()\n",
    "lr.fit(X_train,y_train)\n",
    "pred=lr.predict(X_test)\n",
    "pred"
   ]
  },
  {
   "cell_type": "code",
   "execution_count": 43,
   "metadata": {},
   "outputs": [
    {
     "name": "stdout",
     "output_type": "stream",
     "text": [
      "MAE: 0.11271086072387822\n",
      "MSE: 0.021854697172950382\n",
      "RMSE: 0.14783334256165076\n"
     ]
    }
   ],
   "source": [
    "from sklearn import metrics\n",
    "print('MAE:', metrics.mean_absolute_error(y_test, pred))\n",
    "print('MSE:', metrics.mean_squared_error(y_test, pred))\n",
    "print('RMSE:', np.sqrt(metrics.mean_squared_error(y_test, pred)))"
   ]
  },
  {
   "cell_type": "code",
   "execution_count": 44,
   "metadata": {},
   "outputs": [
    {
     "data": {
      "text/plain": [
       "<matplotlib.collections.PathCollection at 0x1adbd3203c8>"
      ]
     },
     "execution_count": 44,
     "metadata": {},
     "output_type": "execute_result"
    },
    {
     "data": {
      "image/png": "[encoded data removed]",
      "text/plain": [
       "<Figure size 432x288 with 1 Axes>"
      ]
     },
     "metadata": {
      "needs_background": "light"
     },
     "output_type": "display_data"
    }
   ],
   "source": [
    "plt.scatter(x=y_test,y=pred)"
   ]
  },
  {
   "cell_type": "markdown",
   "metadata": {},
   "source": [
    "# DecisionTreeRegressor"
   ]
  },
  {
   "cell_type": "code",
   "execution_count": 45,
   "metadata": {},
   "outputs": [],
   "source": [
    "from sklearn.tree import DecisionTreeRegressor\n",
    "dtr=DecisionTreeRegressor()\n",
    "dtr.fit(X_train,y_train)\n",
    "pred=dtr.predict(X_test)"
   ]
  },
  {
   "cell_type": "code",
   "execution_count": 46,
   "metadata": {},
   "outputs": [
    {
     "data": {
      "text/plain": [
       "Text(0, 0.5, 'Predicted-Y')"
      ]
     },
     "execution_count": 46,
     "metadata": {},
     "output_type": "execute_result"
    },
    {
     "data": {
      "image/png": "[encoded data removed]",
      "text/plain": [
       "<Figure size 432x288 with 1 Axes>"
      ]
     },
     "metadata": {
      "needs_background": "light"
     },
     "output_type": "display_data"
    }
   ],
   "source": [
    "plt.scatter(x=y_test,y=pred)\n",
    "plt.xlabel('Y-Test')\n",
    "plt.ylabel('Predicted-Y')"
   ]
  },
  {
   "cell_type": "code",
   "execution_count": 47,
   "metadata": {},
   "outputs": [
    {
     "name": "stdout",
     "output_type": "stream",
     "text": [
      "MAE: 0.07358552631578949\n",
      "MSE: 0.011991776315789474\n",
      "RMSE: 0.10950696925670747\n"
     ]
    }
   ],
   "source": [
    "print('MAE:', metrics.mean_absolute_error(y_test, pred))\n",
    "print('MSE:', metrics.mean_squared_error(y_test, pred))\n",
    "print('RMSE:', np.sqrt(metrics.mean_squared_error(y_test, pred)))"
   ]
  },
  {
   "cell_type": "markdown",
   "metadata": {},
   "source": [
    "# RandomForestRegressor"
   ]
  },
  {
   "cell_type": "code",
   "execution_count": 48,
   "metadata": {},
   "outputs": [],
   "source": [
    "from sklearn.ensemble import RandomForestRegressor\n",
    "rdr = RandomForestRegressor()\n",
    "rdr.fit(X_train,y_train)\n",
    "pred=rdr.predict(X_test)"
   ]
  },
  {
   "cell_type": "code",
   "execution_count": 49,
   "metadata": {},
   "outputs": [
    {
     "name": "stdout",
     "output_type": "stream",
     "text": [
      "MAE: 0.05836480263157897\n",
      "MSE: 0.006040032138157903\n",
      "RMSE: 0.07771764367347934\n"
     ]
    }
   ],
   "source": [
    "print('MAE:', metrics.mean_absolute_error(y_test, pred))\n",
    "print('MSE:', metrics.mean_squared_error(y_test, pred))\n",
    "print('RMSE:', np.sqrt(metrics.mean_squared_error(y_test, pred)))"
   ]
  },
  {
   "cell_type": "code",
   "execution_count": 50,
   "metadata": {},
   "outputs": [
    {
     "data": {
      "text/plain": [
       "<matplotlib.axes._subplots.AxesSubplot at 0x1adbdf71448>"
      ]
     },
     "execution_count": 50,
     "metadata": {},
     "output_type": "execute_result"
    },
    {
     "data": {
      "image/png": "[encoded data removed]",
      "text/plain": [
       "<Figure size 432x288 with 1 Axes>"
      ]
     },
     "metadata": {
      "needs_background": "light"
     },
     "output_type": "display_data"
    }
   ],
   "source": [
    "sns.distplot((y_test-pred),bins=50)"
   ]
  },
  {
   "cell_type": "code",
   "execution_count": 51,
   "metadata": {},
   "outputs": [
    {
     "data": {
      "text/html": [
       "<div>\n",
       "<style scoped>\n",
       "    .dataframe tbody tr th:only-of-type {\n",
       "        vertical-align: middle;\n",
       "    }\n",
       "\n",
       "    .dataframe tbody tr th {\n",
       "        vertical-align: top;\n",
       "    }\n",
       "\n",
       "    .dataframe thead th {\n",
       "        text-align: right;\n",
       "    }\n",
       "</style>\n",
       "<table border=\"1\" class=\"dataframe\">\n",
       "  <thead>\n",
       "    <tr style=\"text-align: right;\">\n",
       "      <th></th>\n",
       "      <th>Y Test</th>\n",
       "      <th>Pred</th>\n",
       "    </tr>\n",
       "  </thead>\n",
       "  <tbody>\n",
       "    <tr>\n",
       "      <th>724</th>\n",
       "      <td>1.18</td>\n",
       "      <td>1.0957</td>\n",
       "    </tr>\n",
       "    <tr>\n",
       "      <th>812</th>\n",
       "      <td>1.25</td>\n",
       "      <td>1.2035</td>\n",
       "    </tr>\n",
       "    <tr>\n",
       "      <th>1466</th>\n",
       "      <td>1.08</td>\n",
       "      <td>1.0914</td>\n",
       "    </tr>\n",
       "    <tr>\n",
       "      <th>1469</th>\n",
       "      <td>1.07</td>\n",
       "      <td>1.1613</td>\n",
       "    </tr>\n",
       "    <tr>\n",
       "      <th>51</th>\n",
       "      <td>1.22</td>\n",
       "      <td>1.2528</td>\n",
       "    </tr>\n",
       "  </tbody>\n",
       "</table>\n",
       "</div>"
      ],
      "text/plain": [
       "      Y Test    Pred\n",
       "724     1.18  1.0957\n",
       "812     1.25  1.2035\n",
       "1466    1.08  1.0914\n",
       "1469    1.07  1.1613\n",
       "51      1.22  1.2528"
      ]
     },
     "execution_count": 51,
     "metadata": {},
     "output_type": "execute_result"
    },
    {
     "data": {
      "image/png": "[encoded data removed]",
      "text/plain": [
       "<Figure size 360x360 with 1 Axes>"
      ]
     },
     "metadata": {
      "needs_background": "light"
     },
     "output_type": "display_data"
    }
   ],
   "source": [
    "## Predicting the model :\n",
    "data = pd.DataFrame({'Y Test':y_test , 'Pred':pred},columns=['Y Test','Pred'])\n",
    "sns.lmplot(x='Y Test',y='Pred',data=data,palette='rainbow')\n",
    "data.head()"
   ]
  },
  {
   "cell_type": "markdown",
   "metadata": {},
   "source": [
    "# Classification"
   ]
  },
  {
   "cell_type": "code",
   "execution_count": 52,
   "metadata": {},
   "outputs": [],
   "source": [
    "data=pd.read_csv('avacado.csv')"
   ]
  },
  {
   "cell_type": "code",
   "execution_count": 53,
   "metadata": {},
   "outputs": [
    {
     "data": {
      "text/html": [
       "<div>\n",
       "<style scoped>\n",
       "    .dataframe tbody tr th:only-of-type {\n",
       "        vertical-align: middle;\n",
       "    }\n",
       "\n",
       "    .dataframe tbody tr th {\n",
       "        vertical-align: top;\n",
       "    }\n",
       "\n",
       "    .dataframe thead th {\n",
       "        text-align: right;\n",
       "    }\n",
       "</style>\n",
       "<table border=\"1\" class=\"dataframe\">\n",
       "  <thead>\n",
       "    <tr style=\"text-align: right;\">\n",
       "      <th></th>\n",
       "      <th>Date</th>\n",
       "      <th>Average Price</th>\n",
       "      <th>Total Value</th>\n",
       "      <th>4046</th>\n",
       "      <th>4225</th>\n",
       "      <th>4770</th>\n",
       "      <th>Total Bags</th>\n",
       "      <th>Small Bags</th>\n",
       "      <th>Large Bags</th>\n",
       "      <th>Xlarge Bags</th>\n",
       "      <th>type</th>\n",
       "      <th>year</th>\n",
       "      <th>region</th>\n",
       "    </tr>\n",
       "  </thead>\n",
       "  <tbody>\n",
       "    <tr>\n",
       "      <th>0</th>\n",
       "      <td>27/12/2015</td>\n",
       "      <td>1.33</td>\n",
       "      <td>64236.62</td>\n",
       "      <td>1036.74</td>\n",
       "      <td>54454.85</td>\n",
       "      <td>48.16</td>\n",
       "      <td>8696.87</td>\n",
       "      <td>8603.62</td>\n",
       "      <td>93.25</td>\n",
       "      <td>0.0</td>\n",
       "      <td>conventional</td>\n",
       "      <td>2015</td>\n",
       "      <td>Albany</td>\n",
       "    </tr>\n",
       "    <tr>\n",
       "      <th>1</th>\n",
       "      <td>20/12/2015</td>\n",
       "      <td>1.35</td>\n",
       "      <td>54876.98</td>\n",
       "      <td>674.28</td>\n",
       "      <td>44638.81</td>\n",
       "      <td>58.33</td>\n",
       "      <td>9505.56</td>\n",
       "      <td>9408.07</td>\n",
       "      <td>97.49</td>\n",
       "      <td>0.0</td>\n",
       "      <td>conventional</td>\n",
       "      <td>2015</td>\n",
       "      <td>Albany</td>\n",
       "    </tr>\n",
       "    <tr>\n",
       "      <th>2</th>\n",
       "      <td>13/12/2015</td>\n",
       "      <td>0.93</td>\n",
       "      <td>118220.22</td>\n",
       "      <td>794.70</td>\n",
       "      <td>109149.67</td>\n",
       "      <td>130.50</td>\n",
       "      <td>8145.35</td>\n",
       "      <td>8042.21</td>\n",
       "      <td>103.14</td>\n",
       "      <td>0.0</td>\n",
       "      <td>conventional</td>\n",
       "      <td>2015</td>\n",
       "      <td>Albany</td>\n",
       "    </tr>\n",
       "    <tr>\n",
       "      <th>3</th>\n",
       "      <td>06/12/2015</td>\n",
       "      <td>1.08</td>\n",
       "      <td>78992.15</td>\n",
       "      <td>1132.00</td>\n",
       "      <td>71976.41</td>\n",
       "      <td>72.58</td>\n",
       "      <td>5811.16</td>\n",
       "      <td>5677.40</td>\n",
       "      <td>133.76</td>\n",
       "      <td>0.0</td>\n",
       "      <td>conventional</td>\n",
       "      <td>2015</td>\n",
       "      <td>Albany</td>\n",
       "    </tr>\n",
       "    <tr>\n",
       "      <th>4</th>\n",
       "      <td>29/11/2015</td>\n",
       "      <td>1.28</td>\n",
       "      <td>51039.60</td>\n",
       "      <td>941.48</td>\n",
       "      <td>43838.39</td>\n",
       "      <td>75.78</td>\n",
       "      <td>6183.95</td>\n",
       "      <td>5986.26</td>\n",
       "      <td>197.69</td>\n",
       "      <td>0.0</td>\n",
       "      <td>conventional</td>\n",
       "      <td>2015</td>\n",
       "      <td>Albany</td>\n",
       "    </tr>\n",
       "  </tbody>\n",
       "</table>\n",
       "</div>"
      ],
      "text/plain": [
       "         Date  Average Price  Total Value     4046       4225    4770  \\\n",
       "0  27/12/2015           1.33     64236.62  1036.74   54454.85   48.16   \n",
       "1  20/12/2015           1.35     54876.98   674.28   44638.81   58.33   \n",
       "2  13/12/2015           0.93    118220.22   794.70  109149.67  130.50   \n",
       "3  06/12/2015           1.08     78992.15  1132.00   71976.41   72.58   \n",
       "4  29/11/2015           1.28     51039.60   941.48   43838.39   75.78   \n",
       "\n",
       "   Total Bags  Small Bags  Large Bags  Xlarge Bags          type  year  region  \n",
       "0     8696.87     8603.62       93.25          0.0  conventional  2015  Albany  \n",
       "1     9505.56     9408.07       97.49          0.0  conventional  2015  Albany  \n",
       "2     8145.35     8042.21      103.14          0.0  conventional  2015  Albany  \n",
       "3     5811.16     5677.40      133.76          0.0  conventional  2015  Albany  \n",
       "4     6183.95     5986.26      197.69          0.0  conventional  2015  Albany  "
      ]
     },
     "execution_count": 53,
     "metadata": {},
     "output_type": "execute_result"
    }
   ],
   "source": [
    "data.head()"
   ]
  },
  {
   "cell_type": "raw",
   "metadata": {},
   "source": [
    "## we will change the date column to day,month,year and finally drop the date column"
   ]
  },
  {
   "cell_type": "code",
   "execution_count": 54,
   "metadata": {},
   "outputs": [],
   "source": [
    "data['year']=pd.to_datetime(data['Date']).dt.year"
   ]
  },
  {
   "cell_type": "code",
   "execution_count": 55,
   "metadata": {},
   "outputs": [],
   "source": [
    "data['month']=pd.to_datetime(data['Date']).dt.month"
   ]
  },
  {
   "cell_type": "code",
   "execution_count": 56,
   "metadata": {},
   "outputs": [],
   "source": [
    "data['day']=pd.to_datetime(data['Date']).dt.day"
   ]
  },
  {
   "cell_type": "code",
   "execution_count": 57,
   "metadata": {},
   "outputs": [],
   "source": [
    "data.drop('Date',axis=1,inplace=True)"
   ]
  },
  {
   "cell_type": "code",
   "execution_count": 58,
   "metadata": {},
   "outputs": [],
   "source": [
    "data.drop('type',axis=1,inplace=True)"
   ]
  },
  {
   "cell_type": "code",
   "execution_count": 59,
   "metadata": {},
   "outputs": [],
   "source": [
    "from sklearn.preprocessing import LabelEncoder\n",
    "le=LabelEncoder()\n",
    "data['region']=le.fit_transform(data['region'])"
   ]
  },
  {
   "cell_type": "code",
   "execution_count": 60,
   "metadata": {},
   "outputs": [
    {
     "data": {
      "text/html": [
       "<div>\n",
       "<style scoped>\n",
       "    .dataframe tbody tr th:only-of-type {\n",
       "        vertical-align: middle;\n",
       "    }\n",
       "\n",
       "    .dataframe tbody tr th {\n",
       "        vertical-align: top;\n",
       "    }\n",
       "\n",
       "    .dataframe thead th {\n",
       "        text-align: right;\n",
       "    }\n",
       "</style>\n",
       "<table border=\"1\" class=\"dataframe\">\n",
       "  <thead>\n",
       "    <tr style=\"text-align: right;\">\n",
       "      <th></th>\n",
       "      <th>Average Price</th>\n",
       "      <th>Total Value</th>\n",
       "      <th>4046</th>\n",
       "      <th>4225</th>\n",
       "      <th>4770</th>\n",
       "      <th>Total Bags</th>\n",
       "      <th>Small Bags</th>\n",
       "      <th>Large Bags</th>\n",
       "      <th>Xlarge Bags</th>\n",
       "      <th>year</th>\n",
       "      <th>region</th>\n",
       "      <th>month</th>\n",
       "      <th>day</th>\n",
       "    </tr>\n",
       "  </thead>\n",
       "  <tbody>\n",
       "    <tr>\n",
       "      <th>0</th>\n",
       "      <td>1.33</td>\n",
       "      <td>64236.62</td>\n",
       "      <td>1036.74</td>\n",
       "      <td>54454.85</td>\n",
       "      <td>48.16</td>\n",
       "      <td>8696.87</td>\n",
       "      <td>8603.62</td>\n",
       "      <td>93.25</td>\n",
       "      <td>0.0</td>\n",
       "      <td>2015</td>\n",
       "      <td>0</td>\n",
       "      <td>12</td>\n",
       "      <td>27</td>\n",
       "    </tr>\n",
       "    <tr>\n",
       "      <th>1</th>\n",
       "      <td>1.35</td>\n",
       "      <td>54876.98</td>\n",
       "      <td>674.28</td>\n",
       "      <td>44638.81</td>\n",
       "      <td>58.33</td>\n",
       "      <td>9505.56</td>\n",
       "      <td>9408.07</td>\n",
       "      <td>97.49</td>\n",
       "      <td>0.0</td>\n",
       "      <td>2015</td>\n",
       "      <td>0</td>\n",
       "      <td>12</td>\n",
       "      <td>20</td>\n",
       "    </tr>\n",
       "    <tr>\n",
       "      <th>2</th>\n",
       "      <td>0.93</td>\n",
       "      <td>118220.22</td>\n",
       "      <td>794.70</td>\n",
       "      <td>109149.67</td>\n",
       "      <td>130.50</td>\n",
       "      <td>8145.35</td>\n",
       "      <td>8042.21</td>\n",
       "      <td>103.14</td>\n",
       "      <td>0.0</td>\n",
       "      <td>2015</td>\n",
       "      <td>0</td>\n",
       "      <td>12</td>\n",
       "      <td>13</td>\n",
       "    </tr>\n",
       "    <tr>\n",
       "      <th>3</th>\n",
       "      <td>1.08</td>\n",
       "      <td>78992.15</td>\n",
       "      <td>1132.00</td>\n",
       "      <td>71976.41</td>\n",
       "      <td>72.58</td>\n",
       "      <td>5811.16</td>\n",
       "      <td>5677.40</td>\n",
       "      <td>133.76</td>\n",
       "      <td>0.0</td>\n",
       "      <td>2015</td>\n",
       "      <td>0</td>\n",
       "      <td>6</td>\n",
       "      <td>12</td>\n",
       "    </tr>\n",
       "    <tr>\n",
       "      <th>4</th>\n",
       "      <td>1.28</td>\n",
       "      <td>51039.60</td>\n",
       "      <td>941.48</td>\n",
       "      <td>43838.39</td>\n",
       "      <td>75.78</td>\n",
       "      <td>6183.95</td>\n",
       "      <td>5986.26</td>\n",
       "      <td>197.69</td>\n",
       "      <td>0.0</td>\n",
       "      <td>2015</td>\n",
       "      <td>0</td>\n",
       "      <td>11</td>\n",
       "      <td>29</td>\n",
       "    </tr>\n",
       "  </tbody>\n",
       "</table>\n",
       "</div>"
      ],
      "text/plain": [
       "   Average Price  Total Value     4046       4225    4770  Total Bags  \\\n",
       "0           1.33     64236.62  1036.74   54454.85   48.16     8696.87   \n",
       "1           1.35     54876.98   674.28   44638.81   58.33     9505.56   \n",
       "2           0.93    118220.22   794.70  109149.67  130.50     8145.35   \n",
       "3           1.08     78992.15  1132.00   71976.41   72.58     5811.16   \n",
       "4           1.28     51039.60   941.48   43838.39   75.78     6183.95   \n",
       "\n",
       "   Small Bags  Large Bags  Xlarge Bags  year  region  month  day  \n",
       "0     8603.62       93.25          0.0  2015       0     12   27  \n",
       "1     9408.07       97.49          0.0  2015       0     12   20  \n",
       "2     8042.21      103.14          0.0  2015       0     12   13  \n",
       "3     5677.40      133.76          0.0  2015       0      6   12  \n",
       "4     5986.26      197.69          0.0  2015       0     11   29  "
      ]
     },
     "execution_count": 60,
     "metadata": {},
     "output_type": "execute_result"
    }
   ],
   "source": [
    "## lets check the first five records :\n",
    "data.head()"
   ]
  },
  {
   "cell_type": "code",
   "execution_count": 61,
   "metadata": {},
   "outputs": [
    {
     "data": {
      "text/html": [
       "<div>\n",
       "<style scoped>\n",
       "    .dataframe tbody tr th:only-of-type {\n",
       "        vertical-align: middle;\n",
       "    }\n",
       "\n",
       "    .dataframe tbody tr th {\n",
       "        vertical-align: top;\n",
       "    }\n",
       "\n",
       "    .dataframe thead th {\n",
       "        text-align: right;\n",
       "    }\n",
       "</style>\n",
       "<table border=\"1\" class=\"dataframe\">\n",
       "  <thead>\n",
       "    <tr style=\"text-align: right;\">\n",
       "      <th></th>\n",
       "      <th>Average Price</th>\n",
       "      <th>Total Value</th>\n",
       "      <th>4046</th>\n",
       "      <th>4225</th>\n",
       "      <th>4770</th>\n",
       "      <th>Total Bags</th>\n",
       "      <th>Small Bags</th>\n",
       "      <th>Large Bags</th>\n",
       "      <th>Xlarge Bags</th>\n",
       "      <th>year</th>\n",
       "      <th>region</th>\n",
       "      <th>month</th>\n",
       "      <th>day</th>\n",
       "    </tr>\n",
       "  </thead>\n",
       "  <tbody>\n",
       "    <tr>\n",
       "      <th>1512</th>\n",
       "      <td>1.39</td>\n",
       "      <td>190846.01</td>\n",
       "      <td>57529.11</td>\n",
       "      <td>56366.66</td>\n",
       "      <td>17531.78</td>\n",
       "      <td>59418.46</td>\n",
       "      <td>48823.53</td>\n",
       "      <td>10354.65</td>\n",
       "      <td>240.28</td>\n",
       "      <td>2016</td>\n",
       "      <td>7</td>\n",
       "      <td>10</td>\n",
       "      <td>16</td>\n",
       "    </tr>\n",
       "    <tr>\n",
       "      <th>1513</th>\n",
       "      <td>1.51</td>\n",
       "      <td>178235.75</td>\n",
       "      <td>43325.87</td>\n",
       "      <td>52189.61</td>\n",
       "      <td>19419.57</td>\n",
       "      <td>63300.70</td>\n",
       "      <td>54704.14</td>\n",
       "      <td>8596.56</td>\n",
       "      <td>0.00</td>\n",
       "      <td>2016</td>\n",
       "      <td>7</td>\n",
       "      <td>9</td>\n",
       "      <td>10</td>\n",
       "    </tr>\n",
       "    <tr>\n",
       "      <th>1514</th>\n",
       "      <td>1.48</td>\n",
       "      <td>178410.82</td>\n",
       "      <td>46364.75</td>\n",
       "      <td>52893.38</td>\n",
       "      <td>16736.92</td>\n",
       "      <td>62415.77</td>\n",
       "      <td>53332.61</td>\n",
       "      <td>8258.16</td>\n",
       "      <td>825.00</td>\n",
       "      <td>2016</td>\n",
       "      <td>7</td>\n",
       "      <td>2</td>\n",
       "      <td>10</td>\n",
       "    </tr>\n",
       "    <tr>\n",
       "      <th>1515</th>\n",
       "      <td>1.47</td>\n",
       "      <td>189131.52</td>\n",
       "      <td>54110.79</td>\n",
       "      <td>53593.58</td>\n",
       "      <td>17495.42</td>\n",
       "      <td>63931.73</td>\n",
       "      <td>55653.47</td>\n",
       "      <td>8278.26</td>\n",
       "      <td>0.00</td>\n",
       "      <td>2016</td>\n",
       "      <td>7</td>\n",
       "      <td>9</td>\n",
       "      <td>25</td>\n",
       "    </tr>\n",
       "    <tr>\n",
       "      <th>1516</th>\n",
       "      <td>1.43</td>\n",
       "      <td>182978.30</td>\n",
       "      <td>43116.41</td>\n",
       "      <td>54193.42</td>\n",
       "      <td>16563.91</td>\n",
       "      <td>69104.56</td>\n",
       "      <td>57456.21</td>\n",
       "      <td>11648.35</td>\n",
       "      <td>0.00</td>\n",
       "      <td>2016</td>\n",
       "      <td>7</td>\n",
       "      <td>9</td>\n",
       "      <td>18</td>\n",
       "    </tr>\n",
       "  </tbody>\n",
       "</table>\n",
       "</div>"
      ],
      "text/plain": [
       "      Average Price  Total Value      4046      4225      4770  Total Bags  \\\n",
       "1512           1.39    190846.01  57529.11  56366.66  17531.78    59418.46   \n",
       "1513           1.51    178235.75  43325.87  52189.61  19419.57    63300.70   \n",
       "1514           1.48    178410.82  46364.75  52893.38  16736.92    62415.77   \n",
       "1515           1.47    189131.52  54110.79  53593.58  17495.42    63931.73   \n",
       "1516           1.43    182978.30  43116.41  54193.42  16563.91    69104.56   \n",
       "\n",
       "      Small Bags  Large Bags  Xlarge Bags  year  region  month  day  \n",
       "1512    48823.53    10354.65       240.28  2016       7     10   16  \n",
       "1513    54704.14     8596.56         0.00  2016       7      9   10  \n",
       "1514    53332.61     8258.16       825.00  2016       7      2   10  \n",
       "1515    55653.47     8278.26         0.00  2016       7      9   25  \n",
       "1516    57456.21    11648.35         0.00  2016       7      9   18  "
      ]
     },
     "execution_count": 61,
     "metadata": {},
     "output_type": "execute_result"
    }
   ],
   "source": [
    "## lets check the last five records :\n",
    "data.tail()"
   ]
  },
  {
   "cell_type": "code",
   "execution_count": 62,
   "metadata": {},
   "outputs": [
    {
     "data": {
      "text/plain": [
       "Average Price   -0.109444\n",
       "Total Value      6.200138\n",
       "4046             6.051830\n",
       "4225             6.394926\n",
       "4770             5.405164\n",
       "Total Bags       5.366378\n",
       "Small Bags       5.355185\n",
       "Large Bags       5.144495\n",
       "Xlarge Bags      5.775077\n",
       "year             1.828332\n",
       "region           0.288146\n",
       "month            0.101439\n",
       "day              0.041303\n",
       "dtype: float64"
      ]
     },
     "execution_count": 62,
     "metadata": {},
     "output_type": "execute_result"
    }
   ],
   "source": [
    "data.skew()"
   ]
  },
  {
   "cell_type": "code",
   "execution_count": 63,
   "metadata": {},
   "outputs": [
    {
     "name": "stdout",
     "output_type": "stream",
     "text": [
      "(1517, 13)\n",
      "(1436, 13)\n"
     ]
    }
   ],
   "source": [
    "## check the outliers from the dataset :\n",
    "from scipy.stats import zscore\n",
    "z_score=abs(zscore(data))\n",
    "print(data.shape)\n",
    "data_final=data.loc[(z_score<3).all(axis=1)]\n",
    "print(data_final.shape)"
   ]
  },
  {
   "cell_type": "code",
   "execution_count": 64,
   "metadata": {},
   "outputs": [
    {
     "data": {
      "text/plain": [
       "Average Price   -0.109444\n",
       "Total Value      6.200138\n",
       "4046             6.051830\n",
       "4225             6.394926\n",
       "4770             5.405164\n",
       "Total Bags       5.366378\n",
       "Small Bags       5.355185\n",
       "Large Bags       5.144495\n",
       "Xlarge Bags      5.775077\n",
       "year             1.828332\n",
       "region           0.288146\n",
       "month            0.101439\n",
       "day              0.041303\n",
       "dtype: float64"
      ]
     },
     "execution_count": 64,
     "metadata": {},
     "output_type": "execute_result"
    }
   ],
   "source": [
    "data.skew()"
   ]
  },
  {
   "cell_type": "code",
   "execution_count": 65,
   "metadata": {},
   "outputs": [],
   "source": [
    "## removing the outliers :\n",
    "for i in data.columns:\n",
    "    if data.skew().loc[i]>0.55:\n",
    "        data[i]=np.log1p(data[i])"
   ]
  },
  {
   "cell_type": "code",
   "execution_count": 66,
   "metadata": {},
   "outputs": [],
   "source": [
    "for i in data.columns:\n",
    "    if data.skew().loc[i]>0.55:\n",
    "        data[i]=np.log1p(data[i])"
   ]
  },
  {
   "cell_type": "code",
   "execution_count": 67,
   "metadata": {},
   "outputs": [],
   "source": [
    "for i in data.columns:\n",
    "    if data.skew().loc[i]>0.55:\n",
    "        data[i]=np.log1p(data[i])"
   ]
  },
  {
   "cell_type": "code",
   "execution_count": 68,
   "metadata": {},
   "outputs": [],
   "source": [
    "for i in data.columns:\n",
    "    if data.skew().loc[i]>0.55:\n",
    "        data[i]=np.log1p(data[i])"
   ]
  },
  {
   "cell_type": "code",
   "execution_count": 69,
   "metadata": {},
   "outputs": [],
   "source": [
    "for i in data.columns:\n",
    "    if data.skew().loc[i]>0.55:\n",
    "        data[i]=np.log1p(data[i])"
   ]
  },
  {
   "cell_type": "code",
   "execution_count": 70,
   "metadata": {},
   "outputs": [],
   "source": [
    "for i in data.columns:\n",
    "    if data.skew().loc[i]>0.55:\n",
    "        data[i]=np.log1p(data[i])"
   ]
  },
  {
   "cell_type": "code",
   "execution_count": 71,
   "metadata": {},
   "outputs": [
    {
     "data": {
      "text/plain": [
       "Average Price   -0.109444\n",
       "Total Value      0.442500\n",
       "4046            -0.160268\n",
       "4225             0.184436\n",
       "4770            -0.355508\n",
       "Total Bags       0.368284\n",
       "Small Bags       0.409053\n",
       "Large Bags      -0.912766\n",
       "Xlarge Bags      0.348073\n",
       "year             0.000000\n",
       "region           0.288146\n",
       "month            0.101439\n",
       "day              0.041303\n",
       "dtype: float64"
      ]
     },
     "execution_count": 71,
     "metadata": {},
     "output_type": "execute_result"
    }
   ],
   "source": [
    "data.skew()"
   ]
  },
  {
   "cell_type": "code",
   "execution_count": 72,
   "metadata": {},
   "outputs": [],
   "source": [
    "## splitting the dataset :\n",
    "X=data.drop('region',axis=1)\n",
    "y=data['region']"
   ]
  },
  {
   "cell_type": "code",
   "execution_count": 73,
   "metadata": {},
   "outputs": [],
   "source": [
    "from sklearn.model_selection import train_test_split\n",
    "X_train,X_test,y_train,y_test=train_test_split(X,y,test_size=0.2,random_state=42)"
   ]
  },
  {
   "cell_type": "code",
   "execution_count": 74,
   "metadata": {},
   "outputs": [],
   "source": [
    "## importing the esential libraries :\n",
    "from sklearn.metrics import confusion_matrix\n",
    "from sklearn.metrics import classification_report\n",
    "from sklearn.metrics import accuracy_score\n",
    "from sklearn.linear_model import LogisticRegression\n",
    "from sklearn.tree import DecisionTreeClassifier\n",
    "from sklearn.neighbors import KNeighborsClassifier\n",
    "from sklearn.naive_bayes import MultinomialNB\n",
    "from sklearn.svm import SVC\n",
    "from sklearn.ensemble import RandomForestClassifier"
   ]
  },
  {
   "cell_type": "code",
   "execution_count": 75,
   "metadata": {},
   "outputs": [
    {
     "name": "stderr",
     "output_type": "stream",
     "text": [
      "C:\\Users\\sagar\\anaconda3\\lib\\site-packages\\sklearn\\linear_model\\_logistic.py:764: ConvergenceWarning: lbfgs failed to converge (status=1):\n",
      "STOP: TOTAL NO. of ITERATIONS REACHED LIMIT.\n",
      "\n",
      "Increase the number of iterations (max_iter) or scale the data as shown in:\n",
      "    https://scikit-learn.org/stable/modules/preprocessing.html\n",
      "Please also refer to the documentation for alternative solver options:\n",
      "    https://scikit-learn.org/stable/modules/linear_model.html#logistic-regression\n",
      "  extra_warning_msg=_LOGISTIC_SOLVER_CONVERGENCE_MSG)\n",
      "C:\\Users\\sagar\\anaconda3\\lib\\site-packages\\sklearn\\metrics\\_classification.py:1221: UndefinedMetricWarning: Precision and F-score are ill-defined and being set to 0.0 in labels with no predicted samples. Use `zero_division` parameter to control this behavior.\n",
      "  _warn_prf(average, modifier, msg_start, len(result))\n"
     ]
    },
    {
     "name": "stdout",
     "output_type": "stream",
     "text": [
      "Accuracy score of LogisticRegression() is:\n",
      "0.6875\n",
      "[[ 7  0  0 ...  0  0  0]\n",
      " [ 0  9  0 ...  0  0  0]\n",
      " [ 0  0 11 ...  0  0  0]\n",
      " ...\n",
      " [ 0  0  0 ...  3  0  0]\n",
      " [ 0  0  0 ...  0  4  0]\n",
      " [ 0  0  0 ...  0  0  4]]\n",
      "              precision    recall  f1-score   support\n",
      "\n",
      "           0       0.47      0.78      0.58         9\n",
      "           1       0.75      0.60      0.67        15\n",
      "           2       0.61      0.92      0.73        12\n",
      "           3       0.88      0.58      0.70        12\n",
      "           4       0.50      0.50      0.50         6\n",
      "           5       0.83      0.62      0.71         8\n",
      "           6       0.67      0.82      0.74        17\n",
      "           7       0.70      0.78      0.74         9\n",
      "           8       0.75      0.43      0.55         7\n",
      "           9       0.75      1.00      0.86         9\n",
      "          10       1.00      0.80      0.89         5\n",
      "          11       1.00      1.00      1.00         3\n",
      "          12       0.90      0.90      0.90        10\n",
      "          13       1.00      0.75      0.86         4\n",
      "          14       0.80      1.00      0.89         4\n",
      "          15       0.88      1.00      0.93         7\n",
      "          16       0.00      0.00      0.00         2\n",
      "          17       0.67      1.00      0.80         4\n",
      "          18       1.00      0.25      0.40         4\n",
      "          19       0.88      0.88      0.88         8\n",
      "          20       0.67      1.00      0.80         2\n",
      "          21       0.00      0.00      0.00         1\n",
      "          22       0.43      1.00      0.60         3\n",
      "          23       0.60      0.60      0.60         5\n",
      "          24       1.00      0.20      0.33         5\n",
      "          25       0.62      0.62      0.62         8\n",
      "          26       0.83      1.00      0.91         5\n",
      "          27       1.00      0.50      0.67         2\n",
      "          28       0.60      0.43      0.50         7\n",
      "          29       0.20      0.20      0.20         5\n",
      "          30       1.00      1.00      1.00         2\n",
      "          31       0.70      0.70      0.70        10\n",
      "          32       1.00      0.67      0.80         3\n",
      "          33       1.00      1.00      1.00         3\n",
      "          34       0.75      0.43      0.55         7\n",
      "          35       0.00      0.00      0.00         3\n",
      "          36       0.33      0.33      0.33         3\n",
      "          37       0.67      0.80      0.73         5\n",
      "          38       0.43      0.75      0.55         8\n",
      "          39       0.33      0.33      0.33         3\n",
      "          40       1.00      0.67      0.80         3\n",
      "          41       0.00      0.00      0.00         2\n",
      "          42       1.00      0.75      0.86        12\n",
      "          43       0.50      1.00      0.67         1\n",
      "          44       0.83      0.56      0.67         9\n",
      "          45       0.60      0.75      0.67         4\n",
      "          46       1.00      0.50      0.67         2\n",
      "          47       0.64      0.70      0.67        10\n",
      "          48       0.60      0.75      0.67         4\n",
      "          49       0.57      0.80      0.67         5\n",
      "          50       0.67      0.57      0.62         7\n",
      "\n",
      "    accuracy                           0.69       304\n",
      "   macro avg       0.68      0.65      0.64       304\n",
      "weighted avg       0.71      0.69      0.68       304\n",
      "\n",
      "\n",
      "\n",
      "Accuracy score of DecisionTreeClassifier() is:\n",
      "0.868421052631579\n",
      "[[ 7  0  0 ...  0  0  0]\n",
      " [ 0 13  0 ...  0  0  0]\n",
      " [ 0  0 12 ...  0  0  0]\n",
      " ...\n",
      " [ 0  0  0 ...  4  0  0]\n",
      " [ 0  0  0 ...  0  4  0]\n",
      " [ 0  0  0 ...  0  0  7]]\n",
      "              precision    recall  f1-score   support\n",
      "\n",
      "           0       0.78      0.78      0.78         9\n",
      "           1       0.93      0.87      0.90        15\n",
      "           2       1.00      1.00      1.00        12\n",
      "           3       1.00      1.00      1.00        12\n",
      "           4       0.75      1.00      0.86         6\n",
      "           5       1.00      1.00      1.00         8\n",
      "           6       0.85      1.00      0.92        17\n",
      "           7       0.89      0.89      0.89         9\n",
      "           8       1.00      0.86      0.92         7\n",
      "           9       0.73      0.89      0.80         9\n",
      "          10       1.00      0.60      0.75         5\n",
      "          11       1.00      0.67      0.80         3\n",
      "          12       0.90      0.90      0.90        10\n",
      "          13       1.00      1.00      1.00         4\n",
      "          14       1.00      0.50      0.67         4\n",
      "          15       1.00      1.00      1.00         7\n",
      "          16       0.50      0.50      0.50         2\n",
      "          17       1.00      0.50      0.67         4\n",
      "          18       1.00      0.75      0.86         4\n",
      "          19       1.00      0.88      0.93         8\n",
      "          20       1.00      1.00      1.00         2\n",
      "          21       1.00      1.00      1.00         1\n",
      "          22       0.75      1.00      0.86         3\n",
      "          23       0.60      0.60      0.60         5\n",
      "          24       0.75      0.60      0.67         5\n",
      "          25       1.00      0.88      0.93         8\n",
      "          26       1.00      1.00      1.00         5\n",
      "          27       1.00      0.50      0.67         2\n",
      "          28       0.83      0.71      0.77         7\n",
      "          29       0.57      0.80      0.67         5\n",
      "          30       1.00      1.00      1.00         2\n",
      "          31       0.71      1.00      0.83        10\n",
      "          32       0.75      1.00      0.86         3\n",
      "          33       1.00      0.67      0.80         3\n",
      "          34       0.86      0.86      0.86         7\n",
      "          35       0.67      0.67      0.67         3\n",
      "          36       1.00      1.00      1.00         3\n",
      "          37       1.00      1.00      1.00         5\n",
      "          38       0.88      0.88      0.88         8\n",
      "          39       0.75      1.00      0.86         3\n",
      "          40       0.67      0.67      0.67         3\n",
      "          41       1.00      1.00      1.00         2\n",
      "          42       0.85      0.92      0.88        12\n",
      "          43       1.00      1.00      1.00         1\n",
      "          44       0.88      0.78      0.82         9\n",
      "          45       1.00      1.00      1.00         4\n",
      "          46       0.50      0.50      0.50         2\n",
      "          47       0.78      0.70      0.74        10\n",
      "          48       1.00      1.00      1.00         4\n",
      "          49       0.80      0.80      0.80         5\n",
      "          50       0.88      1.00      0.93         7\n",
      "\n",
      "    accuracy                           0.87       304\n",
      "   macro avg       0.88      0.84      0.85       304\n",
      "weighted avg       0.88      0.87      0.87       304\n",
      "\n",
      "\n",
      "\n",
      "Accuracy score of SVC() is:\n",
      "0.3223684210526316\n",
      "[[ 9  0  0 ...  0  0  0]\n",
      " [ 0 15  0 ...  0  0  0]\n",
      " [ 0  0 12 ...  0  0  0]\n",
      " ...\n",
      " [ 0  0  0 ...  0  0  0]\n",
      " [ 0  0  0 ...  0  0  0]\n",
      " [ 0  2  2 ...  0  0  0]]\n",
      "              precision    recall  f1-score   support\n",
      "\n",
      "           0       0.41      1.00      0.58         9\n",
      "           1       0.29      1.00      0.45        15\n",
      "           2       0.21      1.00      0.35        12\n",
      "           3       0.78      0.58      0.67        12\n",
      "           4       0.15      0.50      0.23         6\n",
      "           5       0.60      0.75      0.67         8\n",
      "           6       0.35      1.00      0.52        17\n",
      "           7       0.00      0.00      0.00         9\n",
      "           8       0.00      0.00      0.00         7\n",
      "           9       0.28      1.00      0.44         9\n",
      "          10       0.00      0.00      0.00         5\n",
      "          11       0.00      0.00      0.00         3\n",
      "          12       0.00      0.00      0.00        10\n",
      "          13       0.00      0.00      0.00         4\n",
      "          14       0.00      0.00      0.00         4\n",
      "          15       0.00      0.00      0.00         7\n",
      "          16       0.00      0.00      0.00         2\n",
      "          17       0.25      0.25      0.25         4\n",
      "          18       0.00      0.00      0.00         4\n",
      "          19       1.00      0.25      0.40         8\n",
      "          20       0.00      0.00      0.00         2\n",
      "          21       0.00      0.00      0.00         1\n",
      "          22       0.30      1.00      0.46         3\n",
      "          23       0.00      0.00      0.00         5\n",
      "          24       0.00      0.00      0.00         5\n",
      "          25       0.00      0.00      0.00         8\n",
      "          26       0.45      1.00      0.62         5\n",
      "          27       0.00      0.00      0.00         2\n",
      "          28       0.00      0.00      0.00         7\n",
      "          29       0.00      0.00      0.00         5\n",
      "          30       0.00      0.00      0.00         2\n",
      "          31       0.31      0.40      0.35        10\n",
      "          32       0.00      0.00      0.00         3\n",
      "          33       0.00      0.00      0.00         3\n",
      "          34       0.00      0.00      0.00         7\n",
      "          35       0.00      0.00      0.00         3\n",
      "          36       0.00      0.00      0.00         3\n",
      "          37       0.00      0.00      0.00         5\n",
      "          38       0.00      0.00      0.00         8\n",
      "          39       0.00      0.00      0.00         3\n",
      "          40       0.00      0.00      0.00         3\n",
      "          41       0.00      0.00      0.00         2\n",
      "          42       0.00      0.00      0.00        12\n",
      "          43       0.00      0.00      0.00         1\n",
      "          44       0.33      0.56      0.42         9\n",
      "          45       0.00      0.00      0.00         4\n",
      "          46       0.00      0.00      0.00         2\n",
      "          47       0.00      0.00      0.00        10\n",
      "          48       0.00      0.00      0.00         4\n",
      "          49       0.00      0.00      0.00         5\n",
      "          50       0.00      0.00      0.00         7\n",
      "\n",
      "    accuracy                           0.32       304\n",
      "   macro avg       0.11      0.20      0.13       304\n",
      "weighted avg       0.17      0.32      0.20       304\n",
      "\n",
      "\n",
      "\n",
      "Accuracy score of"
     ]
    },
    {
     "name": "stderr",
     "output_type": "stream",
     "text": [
      "C:\\Users\\sagar\\anaconda3\\lib\\site-packages\\sklearn\\metrics\\_classification.py:1221: UndefinedMetricWarning: Precision and F-score are ill-defined and being set to 0.0 in labels with no predicted samples. Use `zero_division` parameter to control this behavior.\n",
      "  _warn_prf(average, modifier, msg_start, len(result))\n"
     ]
    },
    {
     "name": "stdout",
     "output_type": "stream",
     "text": [
      " KNeighborsClassifier() is:\n",
      "0.375\n",
      "[[9 0 0 ... 0 0 0]\n",
      " [0 7 0 ... 0 0 0]\n",
      " [0 0 8 ... 0 0 0]\n",
      " ...\n",
      " [0 0 0 ... 4 0 0]\n",
      " [0 0 0 ... 0 1 0]\n",
      " [0 0 0 ... 0 0 0]]\n",
      "              precision    recall  f1-score   support\n",
      "\n",
      "           0       0.50      1.00      0.67         9\n",
      "           1       0.41      0.47      0.44        15\n",
      "           2       0.29      0.67      0.40        12\n",
      "           3       0.45      0.42      0.43        12\n",
      "           4       0.33      0.50      0.40         6\n",
      "           5       0.67      0.75      0.71         8\n",
      "           6       0.38      0.65      0.48        17\n",
      "           7       0.22      0.22      0.22         9\n",
      "           8       0.00      0.00      0.00         7\n",
      "           9       0.33      0.78      0.47         9\n",
      "          10       0.20      0.20      0.20         5\n",
      "          11       0.18      0.67      0.29         3\n",
      "          12       0.83      0.50      0.62        10\n",
      "          13       0.40      0.50      0.44         4\n",
      "          14       0.33      0.25      0.29         4\n",
      "          15       0.50      0.29      0.36         7\n",
      "          16       0.00      0.00      0.00         2\n",
      "          17       0.17      0.25      0.20         4\n",
      "          18       0.33      0.25      0.29         4\n",
      "          19       0.33      0.50      0.40         8\n",
      "          20       0.00      0.00      0.00         2\n",
      "          21       0.00      0.00      0.00         1\n",
      "          22       0.50      1.00      0.67         3\n",
      "          23       0.20      0.20      0.20         5\n",
      "          24       1.00      0.40      0.57         5\n",
      "          25       0.00      0.00      0.00         8\n",
      "          26       1.00      1.00      1.00         5\n",
      "          27       1.00      0.50      0.67         2\n",
      "          28       0.00      0.00      0.00         7\n",
      "          29       0.00      0.00      0.00         5\n",
      "          30       0.67      1.00      0.80         2\n",
      "          31       0.29      0.20      0.24        10\n",
      "          32       1.00      0.33      0.50         3\n",
      "          33       0.67      0.67      0.67         3\n",
      "          34       0.25      0.14      0.18         7\n",
      "          35       0.00      0.00      0.00         3\n",
      "          36       0.00      0.00      0.00         3\n",
      "          37       0.00      0.00      0.00         5\n",
      "          38       0.50      0.12      0.20         8\n",
      "          39       0.00      0.00      0.00         3\n",
      "          40       0.00      0.00      0.00         3\n",
      "          41       0.00      0.00      0.00         2\n",
      "          42       0.33      0.17      0.22        12\n",
      "          43       0.00      0.00      0.00         1\n",
      "          44       0.50      0.44      0.47         9\n",
      "          45       0.50      0.50      0.50         4\n",
      "          46       0.00      0.00      0.00         2\n",
      "          47       0.50      0.30      0.37        10\n",
      "          48       1.00      1.00      1.00         4\n",
      "          49       0.20      0.20      0.20         5\n",
      "          50       0.00      0.00      0.00         7\n",
      "\n",
      "    accuracy                           0.38       304\n",
      "   macro avg       0.33      0.33      0.31       304\n",
      "weighted avg       0.36      0.38      0.34       304\n",
      "\n",
      "\n",
      "\n",
      "Accuracy score of MultinomialNB() is:\n",
      "0.18421052631578946\n",
      "[[6 0 1 ... 0 0 0]\n",
      " [0 4 0 ... 0 2 0]\n",
      " [0 0 2 ... 0 0 0]\n",
      " ...\n",
      " [0 0 0 ... 2 0 0]\n",
      " [0 0 2 ... 1 1 0]\n",
      " [0 0 3 ... 0 0 0]]\n",
      "              precision    recall  f1-score   support\n",
      "\n",
      "           0       0.23      0.67      0.34         9\n",
      "           1       0.67      0.27      0.38        15\n",
      "           2       0.05      0.17      0.08        12\n",
      "           3       0.00      0.00      0.00        12\n",
      "           4       1.00      0.17      0.29         6\n",
      "           5       0.50      0.50      0.50         8\n",
      "           6       0.24      0.47      0.31        17\n",
      "           7       0.00      0.00      0.00         9\n",
      "           8       0.00      0.00      0.00         7\n",
      "           9       0.38      0.33      0.35         9\n",
      "          10       0.00      0.00      0.00         5\n",
      "          11       0.00      0.00      0.00         3\n",
      "          12       0.33      0.20      0.25        10\n",
      "          13       0.00      0.00      0.00         4\n",
      "          14       0.00      0.00      0.00         4\n",
      "          15       0.00      0.00      0.00         7\n",
      "          16       0.00      0.00      0.00         2\n",
      "          17       0.25      0.25      0.25         4\n",
      "          18       1.00      0.25      0.40         4\n",
      "          19       0.08      0.12      0.10         8\n",
      "          20       0.00      0.00      0.00         2\n",
      "          21       0.00      0.00      0.00         1\n",
      "          22       0.50      0.67      0.57         3\n",
      "          23       0.00      0.00      0.00         5\n",
      "          24       0.00      0.00      0.00         5\n",
      "          25       0.00      0.00      0.00         8\n",
      "          26       1.00      0.40      0.57         5\n",
      "          27       0.00      0.00      0.00         2\n",
      "          28       0.00      0.00      0.00         7\n",
      "          29       0.00      0.00      0.00         5\n",
      "          30       0.00      0.00      0.00         2\n",
      "          31       0.00      0.00      0.00        10\n",
      "          32       0.00      0.00      0.00         3\n",
      "          33       0.00      0.00      0.00         3\n",
      "          34       0.50      0.14      0.22         7\n",
      "          35       0.00      0.00      0.00         3\n",
      "          36       0.00      0.00      0.00         3\n",
      "          37       0.14      0.20      0.17         5\n",
      "          38       0.43      0.38      0.40         8\n",
      "          39       0.00      0.00      0.00         3\n",
      "          40       0.67      0.67      0.67         3\n",
      "          41       0.00      0.00      0.00         2\n",
      "          42       1.00      0.08      0.15        12\n",
      "          43       0.00      0.00      0.00         1\n",
      "          44       0.33      0.44      0.38         9\n",
      "          45       1.00      0.25      0.40         4\n",
      "          46       0.00      0.00      0.00         2\n",
      "          47       0.50      0.30      0.37        10\n",
      "          48       0.12      0.50      0.20         4\n",
      "          49       0.14      0.20      0.17         5\n",
      "          50       0.00      0.00      0.00         7\n",
      "\n",
      "    accuracy                           0.18       304\n",
      "   macro avg       0.22      0.15      0.15       304\n",
      "weighted avg       0.26      0.18      0.18       304\n",
      "\n",
      "\n",
      "\n"
     ]
    },
    {
     "name": "stderr",
     "output_type": "stream",
     "text": [
      "C:\\Users\\sagar\\anaconda3\\lib\\site-packages\\sklearn\\metrics\\_classification.py:1221: UndefinedMetricWarning: Precision and F-score are ill-defined and being set to 0.0 in labels with no predicted samples. Use `zero_division` parameter to control this behavior.\n",
      "  _warn_prf(average, modifier, msg_start, len(result))\n",
      "C:\\Users\\sagar\\anaconda3\\lib\\site-packages\\sklearn\\metrics\\_classification.py:1221: UndefinedMetricWarning: Precision and F-score are ill-defined and being set to 0.0 in labels with no predicted samples. Use `zero_division` parameter to control this behavior.\n",
      "  _warn_prf(average, modifier, msg_start, len(result))\n"
     ]
    },
    {
     "name": "stdout",
     "output_type": "stream",
     "text": [
      "Accuracy score of RandomForestClassifier() is:\n",
      "0.9671052631578947\n",
      "[[ 9  0  0 ...  0  0  0]\n",
      " [ 0 15  0 ...  0  0  0]\n",
      " [ 0  0 12 ...  0  0  0]\n",
      " ...\n",
      " [ 0  0  0 ...  4  0  0]\n",
      " [ 0  0  0 ...  0  5  0]\n",
      " [ 0  0  0 ...  0  0  6]]\n",
      "              precision    recall  f1-score   support\n",
      "\n",
      "           0       0.90      1.00      0.95         9\n",
      "           1       1.00      1.00      1.00        15\n",
      "           2       1.00      1.00      1.00        12\n",
      "           3       1.00      1.00      1.00        12\n",
      "           4       0.75      1.00      0.86         6\n",
      "           5       1.00      1.00      1.00         8\n",
      "           6       1.00      1.00      1.00        17\n",
      "           7       1.00      1.00      1.00         9\n",
      "           8       1.00      1.00      1.00         7\n",
      "           9       1.00      1.00      1.00         9\n",
      "          10       1.00      0.80      0.89         5\n",
      "          11       1.00      1.00      1.00         3\n",
      "          12       1.00      1.00      1.00        10\n",
      "          13       1.00      1.00      1.00         4\n",
      "          14       1.00      1.00      1.00         4\n",
      "          15       1.00      1.00      1.00         7\n",
      "          16       1.00      1.00      1.00         2\n",
      "          17       1.00      0.75      0.86         4\n",
      "          18       1.00      1.00      1.00         4\n",
      "          19       1.00      0.88      0.93         8\n",
      "          20       1.00      1.00      1.00         2\n",
      "          21       1.00      1.00      1.00         1\n",
      "          22       1.00      1.00      1.00         3\n",
      "          23       1.00      1.00      1.00         5\n",
      "          24       1.00      1.00      1.00         5\n",
      "          25       1.00      1.00      1.00         8\n",
      "          26       1.00      1.00      1.00         5\n",
      "          27       1.00      1.00      1.00         2\n",
      "          28       1.00      0.71      0.83         7\n",
      "          29       0.67      0.80      0.73         5\n",
      "          30       1.00      1.00      1.00         2\n",
      "          31       0.77      1.00      0.87        10\n",
      "          32       1.00      1.00      1.00         3\n",
      "          33       1.00      1.00      1.00         3\n",
      "          34       1.00      1.00      1.00         7\n",
      "          35       1.00      1.00      1.00         3\n",
      "          36       1.00      1.00      1.00         3\n",
      "          37       1.00      1.00      1.00         5\n",
      "          38       1.00      0.88      0.93         8\n",
      "          39       1.00      1.00      1.00         3\n",
      "          40       1.00      1.00      1.00         3\n",
      "          41       1.00      1.00      1.00         2\n",
      "          42       1.00      1.00      1.00        12\n",
      "          43       1.00      1.00      1.00         1\n",
      "          44       1.00      1.00      1.00         9\n",
      "          45       1.00      1.00      1.00         4\n",
      "          46       1.00      0.50      0.67         2\n",
      "          47       0.90      0.90      0.90        10\n",
      "          48       1.00      1.00      1.00         4\n",
      "          49       1.00      1.00      1.00         5\n",
      "          50       0.86      0.86      0.86         7\n",
      "\n",
      "    accuracy                           0.97       304\n",
      "   macro avg       0.98      0.96      0.97       304\n",
      "weighted avg       0.97      0.97      0.97       304\n",
      "\n",
      "\n",
      "\n"
     ]
    }
   ],
   "source": [
    "## we will make list of algorithm and add to for loop and check the score :\n",
    "model=[LogisticRegression(),DecisionTreeClassifier(),SVC(),KNeighborsClassifier(),MultinomialNB(),RandomForestClassifier()]\n",
    "\n",
    "for m in model:\n",
    "    m.fit(X_train,y_train)\n",
    "    m.score(X_train,y_train)\n",
    "    predm=m.predict(X_test)\n",
    "    print('Accuracy score of',m,'is:')\n",
    "    print(accuracy_score(y_test,predm))\n",
    "    print(confusion_matrix(y_test,predm))\n",
    "    print(classification_report(y_test,predm))\n",
    "    print('\\n')"
   ]
  },
  {
   "cell_type": "code",
   "execution_count": 76,
   "metadata": {},
   "outputs": [
    {
     "data": {
      "text/plain": [
       "0.8980263157894737"
      ]
     },
     "execution_count": 76,
     "metadata": {},
     "output_type": "execute_result"
    }
   ],
   "source": [
    "# Decision Tree Classifier\n",
    "from sklearn.tree import DecisionTreeClassifier\n",
    "dtc = DecisionTreeClassifier()\n",
    "dtc.fit(X_train, y_train)\n",
    "pred = dtc.predict(X_test)\n",
    "accuracy_score(y_test, pred)"
   ]
  },
  {
   "cell_type": "code",
   "execution_count": 77,
   "metadata": {},
   "outputs": [
    {
     "data": {
      "text/plain": [
       "0.9539473684210527"
      ]
     },
     "execution_count": 77,
     "metadata": {},
     "output_type": "execute_result"
    }
   ],
   "source": [
    "# Random Forest Classifier\n",
    "from sklearn.ensemble import RandomForestClassifier\n",
    "rfc = RandomForestClassifier()\n",
    "rfc.fit(X_train, y_train)\n",
    "pred = rfc.predict(X_test)\n",
    "accuracy_score(y_test, pred)"
   ]
  },
  {
   "cell_type": "code",
   "execution_count": 78,
   "metadata": {},
   "outputs": [
    {
     "data": {
      "text/plain": [
       "['avacoda.pkl']"
      ]
     },
     "execution_count": 78,
     "metadata": {},
     "output_type": "execute_result"
    }
   ],
   "source": [
    "## saving the model :\n",
    "import joblib\n",
    "joblib.dump(rfc,'avacoda.pkl')"
   ]
  },
  {
   "cell_type": "raw",
   "metadata": {},
   "source": [
    "Conclusion:1) These problem we have solved by Regresion as well as Classification.\n",
    "           2) We have done EDA process, Feature Engineering, Model Selection, finding the right model.\n",
    "           3) for Regression problem (RandomforestRegressor is best)\n",
    "           4) for Clasification problem (RandomForestClassifier is best)\n",
    "           5) Saving the model.\n",
    "           \n",
    "Thank You!!"
   ]
  },
  {
   "cell_type": "code",
   "execution_count": null,
   "metadata": {},
   "outputs": [],
   "source": []
  },
  {
   "cell_type": "code",
   "execution_count": null,
   "metadata": {},
   "outputs": [],
   "source": []
  }
 ],
 "metadata": {
  "kernelspec": {
   "display_name": "Python 3",
   "language": "python",
   "name": "python3"
  },
  "language_info": {
   "codemirror_mode": {
    "name": "ipython",
    "version": 3
   },
   "file_extension": ".py",
   "mimetype": "text/x-python",
   "name": "python",
   "nbconvert_exporter": "python",
   "pygments_lexer": "ipython3",
   "version": "3.7.7"
  }
 },
 "nbformat": 4,
 "nbformat_minor": 4
}
